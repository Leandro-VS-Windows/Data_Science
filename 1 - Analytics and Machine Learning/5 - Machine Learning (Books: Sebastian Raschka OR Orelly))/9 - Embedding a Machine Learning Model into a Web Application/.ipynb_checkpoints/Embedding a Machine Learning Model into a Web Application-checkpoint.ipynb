{
 "cells": [
  {
   "cell_type": "markdown",
   "metadata": {},
   "source": [
    "# Serializando os estimadores do Scikit-Learn"
   ]
  },
  {
   "cell_type": "markdown",
   "metadata": {},
   "source": [
    "Com o modelo treinado com a tecnica out-of-core learning e serializado, podemos partir para a criaçãod e arquivos complementares para a aplicação."
   ]
  },
  {
   "cell_type": "markdown",
   "metadata": {},
   "source": [
    "O trecho abaxio refere-se a um arquivo.py para a limpeza dos dados e fará a tokenização com HashingVectorizer. O arquivo encontra-se no diretório _moviesclassifier_"
   ]
  },
  {
   "cell_type": "code",
   "execution_count": 1,
   "metadata": {},
   "outputs": [],
   "source": [
    "# from sklearn.feature_extraction.text import HashingVectorizer\n",
    "# import re\n",
    "# import os\n",
    "# import pickle\n",
    "\n",
    "# cur_dir = os.path.dirname(__file__)\n",
    "# stop = pickle.load(open(\n",
    "#                         os.path.join(cur_dir, 'pickle_objects', 'stopwords.pkl'), 'rb'))\n",
    "\n",
    "# def tokenizer(text):\n",
    "#     text = re.sub('<[^>]*>', '', text)\n",
    "#     emoticons = re.findall('(?::|;|=)(?:-)?(?:\\)|\\(|D|P)', text.lower())\n",
    "#     text = re.sub('[\\W]+', ' ', text.lower()) + ' '.join(emoticons).replace('-', '')\n",
    "#     tokenized = [w for w in text.split() if w not in stop]\n",
    "#     return tokenized\n",
    "\n",
    "# vect = HashingVectorizer(decode_error='ignore', \n",
    "#                          n_features=2**21, \n",
    "#                          preprocessor=None, \n",
    "#                          tokenizer=tokenizer)"
   ]
  },
  {
   "cell_type": "markdown",
   "metadata": {},
   "source": [
    "## Testando a serialização"
   ]
  },
  {
   "cell_type": "markdown",
   "metadata": {},
   "source": [
    "Uma vez feita a serialização podemos testar a desserialização:"
   ]
  },
  {
   "cell_type": "code",
   "execution_count": 4,
   "metadata": {},
   "outputs": [],
   "source": [
    "import pickle\n",
    "import re\n",
    "import os\n",
    "\n",
    "#Load vectorizer.py\n",
    "from vectorizer import vect\n",
    "\n",
    "#Unpickled Classifier\n",
    "clf = pickle.load(open(os.path.join(\n",
    "                                    'pkl_objects', 'classifier.pkl'), 'rb'))"
   ]
  },
  {
   "cell_type": "markdown",
   "metadata": {},
   "source": [
    "Podemos agora usar o objeto (modelo) carregado e processar um documento simples para fazer uma previsão sobre o  sentimento"
   ]
  },
  {
   "cell_type": "code",
   "execution_count": 9,
   "metadata": {},
   "outputs": [
    {
     "name": "stdout",
     "output_type": "stream",
     "text": [
      "Prediction: Positive\n",
      "Probability: 82.26%\n"
     ]
    }
   ],
   "source": [
    "import numpy as np\n",
    "\n",
    "#Como o modelo retorna o sentimento como inteiros, através de um dict mapeamos o output para uma string\n",
    "label = {0:'Negative', 1:'Positive'}\n",
    "\n",
    "example_1 = ['I love this movie']\n",
    "example_2 = ['This movies is garbage']\n",
    "\n",
    "#Transformando o documento em um vetor de palavras com HashingVectorizer\n",
    "X = vect.transform(example_1)\n",
    "\n",
    "#Printamos as previsões do modelo, tanto para a label quanto para a probabilidade de estar certo\n",
    "# Uma vez que o metodo predict_proba retorna um vetor com probabilidades para cada label, temos que o maior valor\n",
    "# deste vetor corresponde a label mais provável e que confere com o resultado do metodo predict, por isso faz-se\n",
    "# uso do np_max\n",
    "print('Prediction: %s\\nProbability: %.2f%%' % (label[clf.predict(X)[0]], \n",
    "                                               np.max(clf.predict_proba(X)*100)))"
   ]
  },
  {
   "cell_type": "markdown",
   "metadata": {},
   "source": [
    "# Configurando um Banco de Dados SQLite para armazenar os dados"
   ]
  },
  {
   "cell_type": "markdown",
   "metadata": {},
   "source": [
    "Iremos agora configurar um banco de dados [SQLite](http://www.sqlite.org) simples para coletar feedback opcional dos usuários sobre as previsões do aplicativo Web. Podemos usar esse feedback para atualiz nosso modelo de classificação. SQLite é um mecanismo de banco de dados SQL, de código aberto, que não requer um servidor separado para operar, o que o torna ideal para projetos menores e aplicativos da web simples. Essencialmente, um banco de dados SQLite pode ser entendido como um arquivo de banco de dados, único e independente que nos permite acessar diretamente arquivos de armazenamento."
   ]
  },
  {
   "cell_type": "markdown",
   "metadata": {},
   "source": [
    "Felizmente o python, em sua biblioteca, ja fornece uma API para lidar com SQLite, que se chama [__sqlite3__](https://docs.python.org/3.6/library/sqlite3.html) que nos permite trabalhar com banco de dados SQLite.\n",
    "<br>\n",
    "<br>\n",
    "Criaremos agora um novo banco de dados SQLite dentro do diretório movieclassifier e armazenar dois examples de reviews de filmes:"
   ]
  },
  {
   "cell_type": "code",
   "execution_count": 6,
   "metadata": {},
   "outputs": [],
   "source": [
    "import sqlite3\n",
    "import os"
   ]
  },
  {
   "cell_type": "code",
   "execution_count": 8,
   "metadata": {},
   "outputs": [],
   "source": [
    "#Se ja houver o diretório que queremos criar excluiremos \n",
    "if os.path.exists('review.sqlite'):\n",
    "    os.remove('review.sqlite')\n",
    "\n",
    "#Criando a conexão com banco de dados SQLite, que cria um novo banco de dados - ('review.sqlite') no diretório\n",
    "#movieclassifier se ele ja não existir\n",
    "conn = sqlite3.connect('review.sqlite')\n",
    "\n",
    "#Cursor que será responsável por fazer as chamadas para o banco com a sintaxe do SQLite\n",
    "c = conn.cursor()\n",
    "\n",
    "#Criando uma tabela com 3 colunas\n",
    "c.execute('CREATE TABLE review_db'\\\n",
    "                             '(review TEXT, sentiment INTEGER, date TEXT)')\n",
    "\n",
    "#Inserindo exemplos\n",
    "\"\"\"\n",
    "O comando DATETIME('now') insere automaticamente date e timestamp nas entradas fornecidas\n",
    "Usando os argumentos \"?, ?\" passamos os exemplos criados assim como sua classe correspondente (label)\n",
    "\"\"\"\n",
    "example1 = 'I love this movie'\n",
    "c.execute(\"INSERT INTO review_db\"\\\n",
    "            \"(review, sentiment, date) VALUES\"\\\n",
    "              \"(?, ?, DATETIME('now'))\", (example1, 1))\n",
    "\n",
    "example2 = 'I dislike this movie'\n",
    "c.execute(\"INSERT INTO review_db\"\\\n",
    "            \"(review, sentiment, date) VALUES\"\\\n",
    "              \"(?, ?, DATETIME('now'))\", (example2, 0))      \n",
    "          \n",
    "#Commit salva as alterações feitas no database\n",
    "conn.commit()\n",
    "\n",
    "#Fecha a conexão\n",
    "#conn.close()"
   ]
  },
  {
   "cell_type": "code",
   "execution_count": null,
   "metadata": {},
   "outputs": [],
   "source": [
    "c.execute(\"SELECT * from \")"
   ]
  },
  {
   "cell_type": "markdown",
   "metadata": {},
   "source": [
    "Verificando se as entradas, tabelas e colunas foram armazenadas corretamente"
   ]
  },
  {
   "cell_type": "code",
   "execution_count": 3,
   "metadata": {},
   "outputs": [],
   "source": [
    "#Reabrindo a conexão\n",
    "conn = sqlite3.connect('review.sqlite')\n",
    "c = conn.cursor()\n",
    "\n",
    "#Selecionando tudo que foi add no banco do começo de 2020 até agora (22/02/2020)\n",
    "c.execute(\"SELECT * FROM review_db WHERE date\"\\\n",
    "             \" BETWEEN '2020-01-01 00:00:00' AND DATETIME('now')\")\n",
    "\n",
    "#Recuperando o resultado da query\n",
    "result = c.fetchall()\n",
    "\n",
    "conn.close()"
   ]
  },
  {
   "cell_type": "code",
   "execution_count": 4,
   "metadata": {},
   "outputs": [
    {
     "data": {
      "text/plain": [
       "[('I love this movie', 1, '2020-03-02 21:32:13'),\n",
       " ('I dislike this movie', 0, '2020-03-02 21:32:13')]"
      ]
     },
     "execution_count": 4,
     "metadata": {},
     "output_type": "execute_result"
    }
   ],
   "source": [
    "result"
   ]
  },
  {
   "cell_type": "markdown",
   "metadata": {},
   "source": [
    "# Developing a web application with Flask"
   ]
  },
  {
   "cell_type": "markdown",
   "metadata": {},
   "source": [
    "Utilizaremos o framework [__FLASK__](http://flask.pocoo.org/docs/0.12/) para escrever a aplicação web. É um modelo muito popular criado em 2010, escrito em Python o que facilita muito a vida dos programadores. Diversas empresas famosas usaram ou ainda usam Flask, como por exemplo LinkedIn e Pinterest."
   ]
  },
  {
   "cell_type": "markdown",
   "metadata": {},
   "source": [
    "## Primeira aplicação web em Flask"
   ]
  },
  {
   "cell_type": "markdown",
   "metadata": {},
   "source": [
    "Para se familiarizar e aprender a utilizar o __Flask API__ , desenvolveremos primeiro uma aplicação bem simples consistindo uma uma unica pagina web, com uma campo de formulario que permite inserir um nome."
   ]
  },
  {
   "cell_type": "markdown",
   "metadata": {},
   "source": [
    "Inicialmente criamos os seguintes diretórios com os seguintes arquivos:"
   ]
  },
  {
   "cell_type": "code",
   "execution_count": 27,
   "metadata": {},
   "outputs": [
    {
     "data": {
      "text/plain": [
       "'\\n1st_flask_app_1/\\n    app.py\\n    templates/\\n        first_app.html\\n'"
      ]
     },
     "execution_count": 27,
     "metadata": {},
     "output_type": "execute_result"
    }
   ],
   "source": [
    "\"\"\"\n",
    "1st_flask_app_1/\n",
    "    app.py\n",
    "    templates/\n",
    "        first_app.html\n",
    "\"\"\""
   ]
  },
  {
   "cell_type": "markdown",
   "metadata": {},
   "source": [
    "__app.py:__ Conterá o código principal que será executado pelo interpretador Python para executar a aplicação web\n",
    "<br>\n",
    "__templates:__ É o diretório em que o flask irá buscar pelos arquivos HTML para renderizar a pagina web"
   ]
  },
  {
   "cell_type": "code",
   "execution_count": 31,
   "metadata": {},
   "outputs": [],
   "source": [
    "#Código do arquivo app.py\n",
    "# from flask import Flask, render_template\n",
    "\n",
    "# app = Flask(__name__)\n",
    "\n",
    "# @app.route('/')\n",
    "# def index():\n",
    "#     return render_template('first_app.html')\n",
    "\n",
    "# if __name__ == '__main__':\n",
    "#     app.run()"
   ]
  },
  {
   "cell_type": "markdown",
   "metadata": {},
   "source": [
    "* Executamos nossa aplicação como um módulo unico, assim nós inicializamos uma nova instancia do Flask com o argumento \\__name__ para deixar o Flask saber que ele pode encontrar a pasta com templates HTML, no mesmo diretório em que esta localizada.\n",
    "<br>\n",
    "\n",
    "* Utilizamos um decorador de rotas(route) - (@app.route('/')) - para especificar a URL que deve acionar a execução da função índice.\n",
    "<br>\n",
    "\n",
    "* A função index apenas renderiza o arquivo HTML ('first.app.html') que esta localizado na pasta templates\n",
    "<br>\n",
    "\n",
    "* Por último a função __run__ que apenas executa a aplicação no servidor quando o script é executado diretamente de um interpretador Python, isto é garantido pelo __if__ com \\__name__ == '\\__main__'"
   ]
  },
  {
   "cell_type": "code",
   "execution_count": 35,
   "metadata": {},
   "outputs": [],
   "source": [
    "#Código HTML do arquivo first_app.html\n",
    "# <!doctype html>\n",
    "# <html>\n",
    "#     <head>\n",
    "#         <tile>First App</title>\n",
    "#     </head>\n",
    "#     <body>\n",
    "#         <div>Minha primeira web app com Flask!</div>\n",
    "#     </body>\n",
    "# </html>"
   ]
  },
  {
   "cell_type": "markdown",
   "metadata": {},
   "source": [
    "No arquivo acima, simplesmente iniciamos um documento html em branco, com um elemento de bloco (< div >) que contém uma frase de apresentação. <br>\n",
    "Convenientemente, Flask permite rodar a aplicação localmente, into é útil pra o desenvolvimento da aplicação e para testa-la antes de fazer o deploy. <br>\n",
    "Para testar nossa aplicação basta no terminal, dentro do diretório da aplicação, executar: __python app.py__"
   ]
  },
  {
   "cell_type": "markdown",
   "metadata": {},
   "source": [
    "## Formulario de validação e renderização"
   ]
  },
  {
   "cell_type": "markdown",
   "metadata": {},
   "source": [
    "Iremos agora aprimorar a web app com elementos de formularios do HTML, para poder coletar dados dos usuários, usando a lib [WTForms](https://wtforms.readthedocs.io/en/latest/)"
   ]
  },
  {
   "cell_type": "markdown",
   "metadata": {},
   "source": [
    "A idéia agora é que na primeira pagina o usuario insira o nome no campo destinado, e pressione o botão de _submit_ , em seguida uma nova pagina é exibida com o nome inserido e uma saudação."
   ]
  },
  {
   "cell_type": "code",
   "execution_count": 1,
   "metadata": {},
   "outputs": [
    {
     "data": {
      "text/plain": [
       "'\\n1st_flask_app_2/\\n    app.py\\n    static/\\n        style.css\\n    templates/\\n        _formhelpers.html\\n        first_app.html\\n        hello.html\\n'"
      ]
     },
     "execution_count": 1,
     "metadata": {},
     "output_type": "execute_result"
    }
   ],
   "source": [
    "# Inicialmente criaremos um novo diretório \n",
    "\"\"\"\n",
    "1st_flask_app_2/\n",
    "    app.py\n",
    "    static/\n",
    "        style.css\n",
    "    templates/\n",
    "        _formhelpers.html\n",
    "        first_app.html\n",
    "        hello.html\n",
    "\"\"\""
   ]
  },
  {
   "cell_type": "markdown",
   "metadata": {},
   "source": [
    "__Algumas modificações precisarão ser feitas no app.py__"
   ]
  },
  {
   "cell_type": "code",
   "execution_count": 5,
   "metadata": {},
   "outputs": [
    {
     "data": {
      "text/plain": [
       "\"\\nfrom flask import Flask, render_template, request\\nfrom wtforms import Form, TextAreaField, validators\\n\\n#Usando wtforms nós extendemos a função index, criando um campo de texto que será incluido na pagina através da classe TextAreaField\\n#que automaticamente ja checa quando o usuario insere um input valido ou não.\\n\\napp = Flask(__name__)\\n\\nclass HelloForm(Form):\\n    sayhello = TextAreaField('', [validators.DataRequired()])\\n\\n@app.route('/')\\ndef index():\\n    form = HelloForm(request.form)\\n    return render_template('first_app.html', form=form)\\n\\n#O metodo 'POST' é usado para transportar os dados do formulario para o servidor\\n@app.rout('/hello', methods=['POST'])\\n\\n#Definindo uma nova função (hello) que será responsável por renderizar a  pagina HTML hello.html após a validação do formulario\\ndef hello():\\n    form = HelloForm(request.form)\\n    if request.method == 'POST' and form.validate():\\n        name = request.method == 'POST' and form.validate():\\n        return render_template('first_app.html', form=form)\\n    return render_template('first_app.html', form=form)\\n\\n\\n#O argumento debug=True ativa o depurador do FLASK, o que será útil futuramente.\\nif __name__ == '__main__':\\n    app.run(debug=True)\\n\\n\""
      ]
     },
     "execution_count": 5,
     "metadata": {},
     "output_type": "execute_result"
    }
   ],
   "source": [
    "#Código da arquivo app.py\n",
    "\"\"\"\n",
    "from flask import Flask, render_template, request\n",
    "from wtforms import Form, TextAreaField, validators\n",
    "\n",
    "#Usando wtforms nós extendemos a função index, criando um campo de texto que será incluido na pagina através da classe TextAreaField\n",
    "#que automaticamente ja checa quando o usuario insere um input valido ou não.\n",
    "\n",
    "app = Flask(__name__)\n",
    "\n",
    "class HelloForm(Form):\n",
    "    sayhello = TextAreaField('', [validators.DataRequired()])\n",
    "\n",
    "@app.route('/')\n",
    "def index():\n",
    "    form = HelloForm(request.form)\n",
    "    return render_template('first_app.html', form=form)\n",
    "\n",
    "#O metodo 'POST' é usado para transportar os dados do formulario para o servidor\n",
    "@app.rout('/hello', methods=['POST'])\n",
    "\n",
    "#Definindo uma nova função (hello) que será responsável por renderizar a  pagina HTML hello.html após a validação do formulario\n",
    "def hello():\n",
    "    form = HelloForm(request.form)\n",
    "    if request.method == 'POST' and form.validate():\n",
    "        name = request.method == 'POST' and form.validate():\n",
    "        return render_template('first_app.html', form=form)\n",
    "    return render_template('first_app.html', form=form)\n",
    "\n",
    "\n",
    "#O argumento debug=True ativa o depurador do FLASK, o que será útil futuramente.\n",
    "if __name__ == '__main__':\n",
    "    app.run(debug=True)\n",
    "\n",
    "\"\"\""
   ]
  },
  {
   "cell_type": "markdown",
   "metadata": {},
   "source": [
    "## Macro"
   ]
  },
  {
   "cell_type": "markdown",
   "metadata": {},
   "source": [
    "Implementaremos uma macro utilizando o motor template do [Jinja2](http://jinja.pocoo.org) no arquivo _formhelpers.html_ que depois será importado pela _first_app.html_"
   ]
  },
  {
   "cell_type": "code",
   "execution_count": null,
   "metadata": {},
   "outputs": [],
   "source": [
    "\"\"\"\n",
    "{% macro render_field(field) %}\n",
    "    <dt>{{ field.label }}\n",
    "    <dd>{{ field.(**kwargs)|safe }}\n",
    "    {% if field.errors %}\n",
    "        <ul class=errors>\n",
    "        {% for error in field.errors %}\n",
    "            <li>{{ error }}</li>\n",
    "        {% endfor %}\n",
    "        </ul>\n",
    "    {% endif %}\n",
    "    </dd>\n",
    "    </dt>\n",
    "{% endmacro %}\n",
    "\n",
    "\"\"\""
   ]
  },
  {
   "cell_type": "markdown",
   "metadata": {},
   "source": [
    "# Criando um app para review de filmes"
   ]
  },
  {
   "cell_type": "markdown",
   "metadata": {},
   "source": [
    "Agora que estamos familiarizados com alguns conceitos de desenvolvimento de web app, iremos atribuir isso ao nosso classificador de reviews de filmes"
   ]
  },
  {
   "cell_type": "markdown",
   "metadata": {},
   "source": [
    "__Vamos escrever primeiro o módulo app.py__"
   ]
  },
  {
   "cell_type": "code",
   "execution_count": 2,
   "metadata": {},
   "outputs": [],
   "source": [
    "#Este módulo, se encarregará, primeiramente de importar as bibliotecas do python e os objetos necessarios,\n",
    "#descompactar (unpickle) e configurar nosso modelo criado anteriormente:\n",
    "\n",
    "\"\"\"\n",
    "from flask import Flask, render_template, request\n",
    "from wtforms import Form, TextAreaField, validators\n",
    "import pickle\n",
    "import sqlite3\n",
    "import os\n",
    "import numpy as np\n",
    "# import HashingVectorizer from local dir\n",
    "from vectorizer import vect\n",
    "\n",
    "\n",
    "app = Flask(__name__)\n",
    "\n",
    "#Preparando o classificador\n",
    "cur_dir = os.path.dirname(__file__) #diretório atual\n",
    "#Carregando o modelo(RL)\n",
    "clf = pickle.load(open(os.path.join(cur_dir, 'pickle_objects', 'classifier.pkl'), 'rb'))\n",
    "#Carregando o Database\n",
    "db = os.path.join(cur_dir, 'reviews.sqlite')\n",
    "\n",
    "#Função que retorna a label prevista pelo modelo assim como a probabilidade da mesma\n",
    "def classify(document):\n",
    "    label = {0: 'negative', 1: 'positive'}\n",
    "    X = vect.transform([document])\n",
    "    y = clf.predict(X)[0]\n",
    "    proba = np.max(clf.predict_proba(X))\n",
    "    return label[y], proba\n",
    "\n",
    "#Atualiza o modelo treinando-o com um review e uma label dada\n",
    "def train(document, y):\n",
    "    X = vect.transform([document])\n",
    "    clf.partial_fit(X, [y])\n",
    "    \n",
    "#Armazena o submit review no nosso database junto com a label e o timestamp\n",
    "def sqlite_entry(path, document, y):\n",
    "    conn = sqlite3.connect(path)\n",
    "    c = conn.cursor()\n",
    "    c.execute(\"INSERT INTO review_db (review, sentiment, date)\"\\\n",
    "             \"VALUES (?, ?, DATETIME('now'))\", (document, y))\n",
    "    conn.commit()\n",
    "    conn.close()\n",
    "\"\"\""
   ]
  },
  {
   "cell_type": "markdown",
   "metadata": {},
   "source": [
    "__Neste estado do arquivo o classificador (clf) retornará ao seu estado inicial - quando foi feito o pickle dele - sempre que reiniciarmos a aplicação__"
   ]
  },
  {
   "cell_type": "markdown",
   "metadata": {},
   "source": [
    "A segunda parte do arquivo consiste de configurações da pagina em si:"
   ]
  },
  {
   "cell_type": "code",
   "execution_count": null,
   "metadata": {},
   "outputs": [],
   "source": [
    "\"\"\"\n",
    "#Flask\n",
    "\n",
    "\"\"\"\n",
    "Classe que instancia o TextAreaField, que será renderizado no reviewform.html, e esta classe é renderizada pela\n",
    "função index\n",
    "\"\"\"\n",
    "class ReviewForm(Form):\n",
    "    #Reviews validos com pelo menos 15 caracteres\n",
    "    moviereview = TextAreaField('', [validators.DataRequired(), validators.length(min=15)])\n",
    "    \n",
    "@app.route('/')\n",
    "def index():\n",
    "    form = ReviewForm(request.form)\n",
    "    return render_template('reviewform.html', form=form)\n",
    "\n",
    "\"\"\"\n",
    "A função results busca o review passado pelo usuário e passa para o classificador fazer a previsão do sentimento\n",
    "Tal previsão será renderizada no results.html(template)\n",
    "\"\"\"\n",
    "@app.route('/results', methods=['POST'])\n",
    "def results():\n",
    "    form = ReviewForm(request.form)\n",
    "    if request.method == 'POST' and form.validate():\n",
    "        review = request.form['moviereview']\n",
    "        y, proba = classify(review)\n",
    "        return render_template('results.html', \n",
    "                               content=review,\n",
    "                               prediction=y, \n",
    "                               probability=round(proba*100, 2))\n",
    "    return render_template('reviewform.html', form=form)\n",
    "\n",
    "\"\"\"\n",
    "Busca a previsão feita pelo modelo do arquivo results.html, se o usuário clica no botão de Correto ou Incorreto, \n",
    "e transforma a previsão de sentimento devolta para um inteiro que será usado para atualizar o classificador\n",
    "através da função train().\n",
    "Há também uma nova entrada para o banco de dados através da sqlite_entry que recebe o feedback do usuario, e por\n",
    "último um agradecimento é feito ao usuário caso ele use o feedback.\n",
    "\"\"\"\n",
    "@app.route('/thanks', methods=['POST'])\n",
    "def feedback():\n",
    "    feedback = request.form['feedback_button']\n",
    "    review = request.form['review']\n",
    "    prediction = request.form['prediction']\n",
    "    \n",
    "    inv_label = {'negative': 0, 'positive': 1}\n",
    "    y = inv_label[prediction]\n",
    "    \n",
    "    if feedback == \"Incorrect\":\n",
    "        y = int(not(y))\n",
    "    \n",
    "    train(review, y)\n",
    "    sqlite_entry(db, review, y)\n",
    "    return render_template('thanks.html')\n",
    "\n",
    "if __name__ == '_main__':\n",
    "    app.run(debug=True)\n",
    "    \n",
    "\"\"\""
   ]
  },
  {
   "cell_type": "markdown",
   "metadata": {},
   "source": [
    "# Atualizando o modelo após o deploy"
   ]
  },
  {
   "cell_type": "markdown",
   "metadata": {},
   "source": [
    "Se algo ocorrer com o modelo, como crash ou queda do servidor, assim como se fizermos o reload da pagina no pythonanywhere, o arquivo pickle será reiniciado e todo o \"progresso\" de treinamento feito até então, será perdido pois o arquivo.pkl será reiniciado. Uma maneira de evitar isso é atualizando o modelo permanentemente, a cada feedback e fazendo o pickle do modelo novamente, todas as vezes, porem isso é muito custoso computacionalmente e pode até mesmo causar erros devido ao tamanho que poderá ficar o arquivo.pkl, pois a cada novo acesso ele ficará maior.<br>\n",
    "Uma solução alternativa é atualizar o modelo com os dados do feedback que estão sendo coletados pelo banco de dados SQLite. Para isso podemos fazer o download do banco de dados que esta sendo armazenado no servidor do PythonAnywhere, atualizar o modelo localmente no próprio pc, e fazer o upload do novo arquivo pickle para o PythonAnywhere.<br>\n",
    "Sendo assim façamos então o script responsável por isso:"
   ]
  },
  {
   "cell_type": "code",
   "execution_count": null,
   "metadata": {},
   "outputs": [],
   "source": [
    "#Script, localizado na pasta movieclassifeir_app\n",
    "\"\"\"\n",
    "#Libs\n",
    "import pickle\n",
    "import sqlite3\n",
    "import numpy as np\n",
    "import os\n",
    "\n",
    "#Carregando a lib HashingVectorizer localizada no mesmo diretório\n",
    "from vectorizer import vect\n",
    "\n",
    "#Função update\n",
    "#A query sql retorna resultados do banco em lotes de 10.000 por vez\n",
    "def update_model(db_path, model, batch_size=10000):\n",
    "    #Criando a conexão com o db e fazendo a query dos valores da tabela\n",
    "    conn = sqlite3.connect(db_path)\n",
    "    c = conn.cursor()\n",
    "    c.execute('SELECT * from review_db')\n",
    "    results = c.fetchmany(batch_size)\n",
    "    \n",
    "    #Treinando o modelo(parcialmente) com os dados novos vindos do banco de dados\n",
    "    while results:\n",
    "        data = np.array(results)\n",
    "        X = data[:, 0]\n",
    "        y = data[:, 1].astype(int)\n",
    "        \n",
    "        classes = np.array([0,1])\n",
    "        X_train = vect.transform(X)\n",
    "        model.partial_fit(X_train, y, classes=classes)\n",
    "        results = c.fetchmany(batch_size)\n",
    "        \n",
    "    conn.close()\n",
    "    return model\n",
    "\n",
    "#diretório atual\n",
    "cur_dir = os.path.dirname(__file__)\n",
    "\n",
    "#Unpickle do modelo\n",
    "clf = pickle.load(open(os.path.join(cur_dir, \n",
    "                                   'pkl_objects', \n",
    "                                   'classifier.pkl'), 'rb'))\n",
    "\n",
    "#Diretório do banco de dados\n",
    "db = os.path.join(cur_dir, 'reviews.sqlite')\n",
    "\n",
    "#Atualizando o modelo\n",
    "clf = update_model(db_path=db, model=cfl, batch_size=10000)\n",
    "\n",
    "\"\"\""
   ]
  },
  {
   "cell_type": "code",
   "execution_count": null,
   "metadata": {},
   "outputs": [],
   "source": []
  }
 ],
 "metadata": {
  "kernelspec": {
   "display_name": "Python 3",
   "language": "python",
   "name": "python3"
  },
  "language_info": {
   "codemirror_mode": {
    "name": "ipython",
    "version": 3
   },
   "file_extension": ".py",
   "mimetype": "text/x-python",
   "name": "python",
   "nbconvert_exporter": "python",
   "pygments_lexer": "ipython3",
   "version": "3.7.4"
  },
  "latex_envs": {
   "LaTeX_envs_menu_present": true,
   "autoclose": true,
   "autocomplete": true,
   "bibliofile": "biblio.bib",
   "cite_by": "apalike",
   "current_citInitial": 1,
   "eqLabelWithNumbers": true,
   "eqNumInitial": 1,
   "hotkeys": {
    "equation": "Ctrl-E",
    "itemize": "Ctrl-I"
   },
   "labels_anchors": false,
   "latex_user_defs": false,
   "report_style_numbering": false,
   "user_envs_cfg": false
  },
  "toc": {
   "base_numbering": 1,
   "nav_menu": {},
   "number_sections": true,
   "sideBar": true,
   "skip_h1_title": false,
   "title_cell": "Table of Contents",
   "title_sidebar": "Contents",
   "toc_cell": false,
   "toc_position": {
    "height": "calc(100% - 180px)",
    "left": "10px",
    "top": "150px",
    "width": "221.188px"
   },
   "toc_section_display": true,
   "toc_window_display": false
  }
 },
 "nbformat": 4,
 "nbformat_minor": 2
}
