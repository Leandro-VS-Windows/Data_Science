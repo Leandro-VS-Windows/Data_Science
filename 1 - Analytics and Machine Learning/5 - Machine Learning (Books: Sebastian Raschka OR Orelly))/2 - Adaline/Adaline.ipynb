{
 "cells": [
  {
   "cell_type": "markdown",
   "metadata": {},
   "source": [
    "# Adaptive Linear Neuron"
   ]
  },
  {
   "cell_type": "markdown",
   "metadata": {},
   "source": [
    "Adaline(Adaptive Linear Neuron) é muito semelhante ao percetron, muda principalmente o metodo _fit_ que agora atualiza os pesos minimizando a função custo através do gradiente descendente.<br>"
   ]
  },
  {
   "cell_type": "markdown",
   "metadata": {},
   "source": [
    "## Dataset"
   ]
  },
  {
   "cell_type": "code",
   "execution_count": 5,
   "metadata": {},
   "outputs": [
    {
     "data": {
      "text/html": [
       "<div>\n",
       "<style scoped>\n",
       "    .dataframe tbody tr th:only-of-type {\n",
       "        vertical-align: middle;\n",
       "    }\n",
       "\n",
       "    .dataframe tbody tr th {\n",
       "        vertical-align: top;\n",
       "    }\n",
       "\n",
       "    .dataframe thead th {\n",
       "        text-align: right;\n",
       "    }\n",
       "</style>\n",
       "<table border=\"1\" class=\"dataframe\">\n",
       "  <thead>\n",
       "    <tr style=\"text-align: right;\">\n",
       "      <th></th>\n",
       "      <th>0</th>\n",
       "      <th>1</th>\n",
       "      <th>2</th>\n",
       "      <th>3</th>\n",
       "      <th>4</th>\n",
       "    </tr>\n",
       "  </thead>\n",
       "  <tbody>\n",
       "    <tr>\n",
       "      <th>0</th>\n",
       "      <td>5.1</td>\n",
       "      <td>3.5</td>\n",
       "      <td>1.4</td>\n",
       "      <td>0.2</td>\n",
       "      <td>Iris-setosa</td>\n",
       "    </tr>\n",
       "    <tr>\n",
       "      <th>1</th>\n",
       "      <td>4.9</td>\n",
       "      <td>3.0</td>\n",
       "      <td>1.4</td>\n",
       "      <td>0.2</td>\n",
       "      <td>Iris-setosa</td>\n",
       "    </tr>\n",
       "    <tr>\n",
       "      <th>2</th>\n",
       "      <td>4.7</td>\n",
       "      <td>3.2</td>\n",
       "      <td>1.3</td>\n",
       "      <td>0.2</td>\n",
       "      <td>Iris-setosa</td>\n",
       "    </tr>\n",
       "    <tr>\n",
       "      <th>3</th>\n",
       "      <td>4.6</td>\n",
       "      <td>3.1</td>\n",
       "      <td>1.5</td>\n",
       "      <td>0.2</td>\n",
       "      <td>Iris-setosa</td>\n",
       "    </tr>\n",
       "    <tr>\n",
       "      <th>4</th>\n",
       "      <td>5.0</td>\n",
       "      <td>3.6</td>\n",
       "      <td>1.4</td>\n",
       "      <td>0.2</td>\n",
       "      <td>Iris-setosa</td>\n",
       "    </tr>\n",
       "  </tbody>\n",
       "</table>\n",
       "</div>"
      ],
      "text/plain": [
       "     0    1    2    3            4\n",
       "0  5.1  3.5  1.4  0.2  Iris-setosa\n",
       "1  4.9  3.0  1.4  0.2  Iris-setosa\n",
       "2  4.7  3.2  1.3  0.2  Iris-setosa\n",
       "3  4.6  3.1  1.5  0.2  Iris-setosa\n",
       "4  5.0  3.6  1.4  0.2  Iris-setosa"
      ]
     },
     "execution_count": 5,
     "metadata": {},
     "output_type": "execute_result"
    }
   ],
   "source": [
    "import pandas as pd\n",
    "df = pd.read_csv('/home/leandro/Documents/Data/iris.data', header=None)\n",
    "df.head()"
   ]
  },
  {
   "cell_type": "code",
   "execution_count": 6,
   "metadata": {},
   "outputs": [],
   "source": [
    "#Selecionando setosa e versicolor\n",
    "y = df.iloc[0:100, 4].values\n",
    "y = np.where(y == 'Iris-setosa', -1, 1)\n",
    "\n",
    "#Selecionando comprimento de sepal e comprimento da petala\n",
    "X = df.iloc[0:100, [0,2]].values"
   ]
  },
  {
   "cell_type": "markdown",
   "metadata": {},
   "source": [
    "## Definindo a classe do Adaline"
   ]
  },
  {
   "cell_type": "code",
   "execution_count": 7,
   "metadata": {},
   "outputs": [],
   "source": [
    "import numpy as np\n",
    "import matplotlib.pyplot as plt\n",
    "%matplotlib inline\n",
    "plt.style.use(\"ggplot\")"
   ]
  },
  {
   "cell_type": "code",
   "execution_count": 8,
   "metadata": {},
   "outputs": [],
   "source": [
    "class AdalineGD(object):\n",
    "    \"\"\"ADAline LInear NEuron classifier\n",
    "    \n",
    "    Parametros\n",
    "    ------------\n",
    "    eta: float\n",
    "        Taxa de Aprendizagem (varia entre 0.0 e 1.0)\n",
    "    n_iter: int\n",
    "        Passos sobre o dataset de treinamento (epochs)\n",
    "    random_state: int\n",
    "        Numero aleatório gerador dos seeds para inicialização com pesos randomicos\n",
    "    \n",
    "    Atributos\n",
    "    -----------\n",
    "    w_: Vetor 1D\n",
    "        Pesos depois do fitting\n",
    "    errors_: list\n",
    "        Numeros de Classificações erradas em cada epoch\n",
    "        \n",
    "    \"\"\"\n",
    "    \n",
    "    def __init__(self, eta=0.01, n_iter=50, random_state=1):\n",
    "        self.eta = eta\n",
    "        self.n_iter = n_iter\n",
    "        self.random_state = random_state\n",
    "        \n",
    "    def fit(self, X, y):\n",
    "        \"\"\"Fit dos dados de treino\n",
    "        \n",
    "        Parametros\n",
    "        ------------\n",
    "        X: {array-like}, shape = [n_samples, n_features]\n",
    "            Vetor de treino, onde n_sample é o numero de amostras e\n",
    "            n_features o numero de fetures\n",
    "        y: array-like, shape = [n_samples]\n",
    "            Valores Target.\n",
    "        \n",
    "        Returns\n",
    "        ----------\n",
    "        self: objeto\n",
    "        \n",
    "        \"\"\"\n",
    "        \n",
    "        rgen = np.random.RandomState(self.random_state)\n",
    "        self.w_ = rgen.normal(loc=0.0, scale=0.01, size=1+ X.shape[1])\n",
    "        self.cost_ = []\n",
    "        \n",
    "        for i in range(self.n_iter):\n",
    "            net_input = self.net_input(X)\n",
    "            output = self.activation(net_input)\n",
    "            errors = (y - output)\n",
    "            #X.T.dot(errors) --> Matriz de multiplacação entre a matrix das features e o vetor erro\n",
    "            self.w_[1:] += self.eta * X.T.dot(errors) # Calcula o gradiente para pesos de 1 a m\n",
    "            self.w_[0] += self.eta * errors.sum() #Calcula o gradiente sobre toda a amostra de treino para o bias\n",
    "            cost = (errors**2).sum() / 2.0\n",
    "            self.cost_.append(cost) #Para verificar onde o algoritmo converge\n",
    "        return self\n",
    "    \n",
    "    def net_input(self, X):\n",
    "        \"\"\"Calcula o net input\"\"\"\n",
    "        return np.dot(X, self.w_[1:]) + self.w_[0]\n",
    "    \n",
    "    #Apenas uma função identidade para ilustrar a linearidade da ativação\n",
    "    #Em casos mais complexos, como de não lineraridade, esta função defini-se de forma diferente\n",
    "    def activation(self, X):\n",
    "        \"\"\"Computa a ativação linear\"\"\"\n",
    "        return X\n",
    "    \n",
    "    def predict(self, X):\n",
    "        \"\"\"Retorna a label da classe\"\"\"\n",
    "        return np.where(self.activation(self.net_input(X)) >= 0.0, 1, -1)"
   ]
  },
  {
   "cell_type": "markdown",
   "metadata": {},
   "source": [
    "Em principio um dos fatores que determinam a qualidade dos resultados do algoritmo são as escolhas para os hipeparametros ($\\eta$ e epochs). Vamos experimentar dois valores diferentes para o $\\eta$ e plotar a função custo em função do numero de epochs para ver o comportamento do Adaline."
   ]
  },
  {
   "cell_type": "code",
   "execution_count": 28,
   "metadata": {},
   "outputs": [
    {
     "data": {
      "image/png": "[encoded data removed]",
      "text/plain": [
       "<Figure size 720x288 with 2 Axes>"
      ]
     },
     "metadata": {},
     "output_type": "display_data"
    }
   ],
   "source": [
    "#Plot da função custo vs Epochs, para dois valores do eta(taxa de aprendizagem)\n",
    "fig, ax = plt.subplots(nrows=1, ncols=2, figsize=(10,4))\n",
    "\n",
    "#eta=0.01\n",
    "ada1 = AdalineGD(n_iter=10, eta=0.01).fit(X,y)\n",
    "ax[0].plot(range(1, len(ada1.cost_) + 1), np.log10(ada1.cost_), marker='o')\n",
    "ax[0].set_xlabel('Epochs')\n",
    "ax[0].set_ylabel('log(Sum-Squared-Error)')\n",
    "ax[0].set_title('Adaline - Learning rate ($η$) = 0.01')\n",
    "\n",
    "#eta=0.0001\n",
    "ada2 = AdalineGD(n_iter=10, eta=0.0001).fit(X,y)\n",
    "ax[1].plot(range(1, len(ada2.cost_) + 1), np.log10(ada2.cost_), marker='o')\n",
    "ax[1].set_xlabel('Epochs')\n",
    "ax[1].set_ylabel('log(Sum-Squared-Error)')\n",
    "ax[1].set_title('Adaline - Learning rate ($η$) = 0.0001')\n",
    "\n",
    "plt.show()"
   ]
  },
  {
   "cell_type": "markdown",
   "metadata": {},
   "source": [
    "O gráfico a esquerda nos mostra que se escolhermos um $\\eta$ grande ao invés de minimizar a função custo, os erros se tornam maiores a cada epoch por que estaremos sempre ultrapassando o Minimo Global.<br>\n",
    "A direita temos um $\\eta$ pequeno que faz a função custo decrescer mas isso requer um numero grande de epochs para o algoritmo convergir para o Minimo global."
   ]
  },
  {
   "cell_type": "markdown",
   "metadata": {},
   "source": [
    "# Standardization"
   ]
  },
  {
   "cell_type": "markdown",
   "metadata": {},
   "source": [
    "Esta tecnica pode ser facilmente implementada em Python, utilizando dos metodos _mean_ e _std_ da lib NumPy:"
   ]
  },
  {
   "cell_type": "code",
   "execution_count": 13,
   "metadata": {},
   "outputs": [],
   "source": [
    "#Standardization\n",
    "X_std = np.copy(X)\n",
    "X_std[:,0] = (X[:,0] - X[:,0].mean()) / X[:,0].std()\n",
    "X_std[:,1] = (X[:,1] - X[:,1].mean()) / X[:,1].std()"
   ]
  },
  {
   "cell_type": "markdown",
   "metadata": {},
   "source": [
    "## Treinamento"
   ]
  },
  {
   "cell_type": "markdown",
   "metadata": {},
   "source": [
    "Agora podemos novamente treinas o Adaline para verificar após quantas epochs ele converge para um $\\eta = 0.01$ "
   ]
  },
  {
   "cell_type": "code",
   "execution_count": 61,
   "metadata": {},
   "outputs": [
    {
     "data": {
      "text/plain": [
       "<__main__.AdalineGD at 0x7f8e9f480650>"
      ]
     },
     "execution_count": 61,
     "metadata": {},
     "output_type": "execute_result"
    }
   ],
   "source": [
    "#Treino\n",
    "ada = AdalineGD(n_iter=15, eta=0.01)\n",
    "ada.fit(X_std, y)"
   ]
  },
  {
   "cell_type": "code",
   "execution_count": 62,
   "metadata": {},
   "outputs": [],
   "source": [
    "from matplotlib.colors import ListedColormap\n",
    "#Função que plota a região de convergencia - Usada no Perceptron\n",
    "def plot_decision_regions(X, y, classifier, resolution=0.02):\n",
    "    #Setup do gerador de marcadores e cores (color map)\n",
    "    markers = ('s', 'x', 'o', '^', 'v')\n",
    "    colors = ('red', 'blue', 'lightgreen', 'gray', 'cyan')\n",
    "    cmap = ListedColormap(colors[:len(np.unique(y))])\n",
    "    \n",
    "    #plot da superficie de decisão\n",
    "    #definindo o min e max das duas features\n",
    "    x1_min, x1_max = X[:, 0].min() - 1, X[:, 0].max() + 1\n",
    "    x2_min, x2_max = X[:, 1].min() - 1, X[:, 1].max() + 1\n",
    "    \n",
    "    #Usando o min e max das features para criar um par de vetores de grid para a função meshgrid\n",
    "    #np.meshgrid cria uma grade retangular apartir de duas matrizes para uma representação cartesiana\n",
    "    xx1, xx2 = np.meshgrid(np.arange(x1_min, x1_max, resolution),\n",
    "                           np.arange(x2_min, x2_max, resolution))\n",
    "    \n",
    "    \"\"\"\n",
    "    _Como treinamos nosso perceptron com dados de duas diemensões, precisamos \"achatar\" os vetores grid,\n",
    "    para criar uma matrix que tenha o mesmo numero de colunas que o sub-dataset de treino,\n",
    "    então usamos o metodo predict para prever as lebels Z correpondentes aos pontos do grid.\n",
    "    \n",
    "    _.ravel() retorna um vetor \"achatado\"(1D)\n",
    "    _.T acessa o atributo 'T' do objeto, que Transpõe o vetor (vetor transposto)\n",
    "    _.shape() retorna uma tupla com as dimensões do vetor\n",
    "    \n",
    "    \"\"\"\n",
    "    Z = classifier.predict(np.array([xx1.ravel(), xx2.ravel()]).T)\n",
    "    Z = Z.reshape(xx1.shape)\n",
    "    \n",
    "    #Após redimensionar Z dentro do grid para as mesmas dimensões de xx1 e xx2, podemos então\n",
    "    #plotar o seu contorno, onde diferentes regiões de decisão terão cores diferentes\n",
    "    plt.figure(figsize=(14,9))\n",
    "    plt.contourf(xx1, xx2, Z, alpha=0.3, cmap=cmap)\n",
    "    plt.xlim(xx1.min(), xx1.max())\n",
    "    plt.ylim(xx2.min(), xx2.max())\n",
    "    \n",
    "    #Plot das classes das amostras\n",
    "    for idx, cl in enumerate(np.unique(y)):\n",
    "        plt.scatter(x=X[y == cl, 0], \n",
    "                    y=X[y == cl, 1],\n",
    "                    alpha=0.8, \n",
    "                    c=colors[idx],\n",
    "                    marker=markers[idx], \n",
    "                    label=cl, \n",
    "                    edgecolor='black')"
   ]
  },
  {
   "cell_type": "code",
   "execution_count": 63,
   "metadata": {},
   "outputs": [
    {
     "data": {
      "image/png": "[encoded data removed]",
      "text/plain": [
       "<Figure size 1008x648 with 1 Axes>"
      ]
     },
     "metadata": {},
     "output_type": "display_data"
    },
    {
     "data": {
      "image/png": "[encoded data removed]",
      "text/plain": [
       "<Figure size 1008x648 with 1 Axes>"
      ]
     },
     "metadata": {},
     "output_type": "display_data"
    }
   ],
   "source": [
    "#plot decisão de fronteira\n",
    "plot_decision_regions(X_std, y, classifier=ada)\n",
    "plt.title('Adaline - Gradient Descent')\n",
    "plt.xlabel('sepal length [stadardization]')\n",
    "plt.ylabel('petal length [stadardization]')\n",
    "plt.legend(loc='upper left')\n",
    "plt.show()\n",
    "\n",
    "#plot Epochs vs Error\n",
    "plt.figure(figsize=(14,9))\n",
    "plt.plot(range(1, len(ada.cost_) + 1), ada.cost_, marker='o')\n",
    "plt.xlabel('Epochs')\n",
    "plt.ylabel('Sum-Squared_Error')\n",
    "plt.show()"
   ]
  },
  {
   "cell_type": "markdown",
   "metadata": {},
   "source": [
    "Vemos então que o Adaline convergiu após aplicarmos a tecnica de padronização, porém mesmo tendo classificado todas as amostras corretamente, podemos ver no segundo gráfico que o SSE não é zero!"
   ]
  },
  {
   "cell_type": "markdown",
   "metadata": {},
   "source": [
    "# Stochastic Gradient Descent"
   ]
  },
  {
   "cell_type": "markdown",
   "metadata": {},
   "source": [
    "Atualizando a classe para o novo modelo"
   ]
  },
  {
   "cell_type": "code",
   "execution_count": 65,
   "metadata": {},
   "outputs": [],
   "source": [
    "class AdalineSGD(object):\n",
    "    \"\"\"ADAline LInear NEuron classifier\n",
    "    \n",
    "    Parametros\n",
    "    ------------\n",
    "    eta: float\n",
    "        Taxa de Aprendizagem (varia entre 0.0 e 1.0)\n",
    "    n_iter: int\n",
    "        Passos sobre o dataset de treinamento (epochs)\n",
    "    random_state: int\n",
    "        Numero aleatório gerador dos seeds para inicialização com pesos randomicos\n",
    "    shuffle : bool (default: True)\n",
    "        Embaralhando o conjunto de treino sempre que epoch é Verdadeira, ou seja, a cada nova epóca,\n",
    "        para previnir ciclos\n",
    "    \n",
    "    Atributos\n",
    "    -----------\n",
    "    w_: Vetor 1D\n",
    "        Pesos depois do fitting\n",
    "    cost_ : list\n",
    "        Soma dos quadrados dos valores médios da função custo sobre\n",
    "        todo o conjunto de treino em cada epóca\n",
    "        \n",
    "    \"\"\"\n",
    "    \n",
    "    def __init__(self, eta=0.01, n_iter=50, random_state=None, shuffle=True):\n",
    "        self.eta = eta\n",
    "        self.n_iter = n_iter\n",
    "        self.random_state = random_state\n",
    "        self.w_initialized = False\n",
    "        self.shuffle = shuffle\n",
    "    \n",
    "    #O fit agora atualiza os pesos após cada amostra de treino\n",
    "    def fit(self, X, y):\n",
    "        \"\"\"Fit dos dados de treino\n",
    "        \n",
    "        Parametros\n",
    "        ------------\n",
    "        X: {array-like}, shape = [n_samples, n_features]\n",
    "            Vetor de treino, onde n_sample é o numero de amostras e\n",
    "            n_features o numero de fetures\n",
    "        y: array-like, shape = [n_samples]\n",
    "            Valores Target.\n",
    "        \n",
    "        Returns\n",
    "        ----------\n",
    "        self: objeto\n",
    "        \n",
    "        \"\"\"\n",
    "        self.initialize_weights(X.shape[1])\n",
    "        self.cost_ = []\n",
    "        for i in range(self.n_iter):\n",
    "            if self.shuffle:\n",
    "                X, y = self.shuffle(X,y)\n",
    "            cost = []\n",
    "            for xi, target in zip(X, y):\n",
    "                cost.append(self._update_weights(xi, target))\n",
    "            avg_cost = sum(cost) / len(y)\n",
    "            self.cost_.append(avg_cost)\n",
    "        return self\n",
    "    \n",
    "    #Fit sem reinicializar os pesos\n",
    "    def partial_fit(self, X, y):\n",
    "        \"\"\"Fit do conjunto de dados sem reinicializar os pesos\"\"\"\n",
    "        if not self.w_initialized:\n",
    "            self._initialize_weights(X.shape[1])\n",
    "        if y.ravel().shape[0] > 1:\n",
    "            for xi, target in zip(X, y):\n",
    "                self._update_weights(xi, target)\n",
    "        else:\n",
    "            self._update_weights(X, y)\n",
    "        return self\n",
    "    \n",
    "    def _shuffle(self, X, y):\n",
    "        \"\"\"Embaralhando o conjunto de treino\"\"\"\n",
    "        r = self.rgen.permutation(len(y))\n",
    "        return X[r], y[r]\n",
    "    \n",
    "    def _initialize_weights(self, m):\n",
    "        \"\"\"Inicializa os pesos com um numero randomico pequeno\"\"\"\n",
    "        self.rgen = np.random.RandomState(self.random_state)\n",
    "        self.w_ = self.rgen.normal(loc=0.0, scale=0.01, size=1 + m)\n",
    "        self.w_initialized = True\n",
    "        \n",
    "    def _update_weights(self, xi, target):\n",
    "        \"\"\"Aplicando a regra de aprendizagem do Adalinepara atualizar os pesos\"\"\"\n",
    "        output = self.activation(self.net_input(xi))\n",
    "        error = (target - output)\n",
    "        self.w_[1:] += self.eta * xi.dot(error)\n",
    "        self.w_[0] += self.eta * error\n",
    "        cost = 0.5 * error**2\n",
    "        return cost\n",
    "    \n",
    "    def net_input(self, X):\n",
    "        \"\"\"Calculando o input liquido\"\"\"\n",
    "        return np.dot(X, self.w_[1:]) + self.w_[0]\n",
    "    \n",
    "    def activation(self, X):\n",
    "        \"\"\"Ativação Linear\"\"\"\n",
    "        return X\n",
    "    \n",
    "    def predict(self, X):\n",
    "        \"\"\"Retorna a label da classe prevista após a função decisão\"\"\"\n",
    "        return np.where(self.activation(self.net_input(X)) >= 0.0, 1, -1)"
   ]
  },
  {
   "cell_type": "code",
   "execution_count": null,
   "metadata": {},
   "outputs": [],
   "source": []
  },
  {
   "cell_type": "code",
   "execution_count": null,
   "metadata": {},
   "outputs": [],
   "source": []
  },
  {
   "cell_type": "code",
   "execution_count": null,
   "metadata": {},
   "outputs": [],
   "source": []
  },
  {
   "cell_type": "code",
   "execution_count": null,
   "metadata": {},
   "outputs": [],
   "source": []
  },
  {
   "cell_type": "code",
   "execution_count": null,
   "metadata": {},
   "outputs": [],
   "source": []
  },
  {
   "cell_type": "code",
   "execution_count": null,
   "metadata": {},
   "outputs": [],
   "source": []
  }
 ],
 "metadata": {
  "kernelspec": {
   "display_name": "Python 3",
   "language": "python",
   "name": "python3"
  },
  "latex_envs": {
   "LaTeX_envs_menu_present": true,
   "autoclose": true,
   "autocomplete": true,
   "bibliofile": "biblio.bib",
   "cite_by": "apalike",
   "current_citInitial": 1,
   "eqLabelWithNumbers": true,
   "eqNumInitial": 1,
   "hotkeys": {
    "equation": "Ctrl-E",
    "itemize": "Ctrl-I"
   },
   "labels_anchors": false,
   "latex_user_defs": false,
   "report_style_numbering": false,
   "user_envs_cfg": false
  },
  "toc": {
   "base_numbering": 1,
   "nav_menu": {},
   "number_sections": true,
   "sideBar": true,
   "skip_h1_title": false,
   "title_cell": "Table of Contents",
   "title_sidebar": "Contents",
   "toc_cell": false,
   "toc_position": {},
   "toc_section_display": true,
   "toc_window_display": false
  }
 },
 "nbformat": 4,
 "nbformat_minor": 2
}
