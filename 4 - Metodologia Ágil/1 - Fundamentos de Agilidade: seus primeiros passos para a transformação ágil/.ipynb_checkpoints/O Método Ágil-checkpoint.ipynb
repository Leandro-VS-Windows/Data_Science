{
 "cells": [
  {
   "cell_type": "markdown",
   "metadata": {},
   "source": [
    "# Como surgiu o Ágil?"
   ]
  },
  {
   "cell_type": "markdown",
   "metadata": {},
   "source": [
    "Surgiu no escopo da Engenharia de Software, que por sua vez herdou metodologias de outras engenharias como o __WatterFall (cascata)__, onde após uma definição inicial o processo de desenvolvimento segue até o fim. Porém por diversos fatores como: novas idéias, regulamentações novas, testes que deram errado no meio do caminho, mudanças das necessidades do cliente, etc... Então para corrigir esses prolemas desenvolveram o ___Ágil.___"
   ]
  },
  {
   "cell_type": "markdown",
   "metadata": {},
   "source": [
    "# Diferenças entre WatterFall e Ágil"
   ]
  },
  {
   "cell_type": "markdown",
   "metadata": {},
   "source": [
    "* __WatterFall:__\n",
    "    * Requisitos: serão validados após um longo período\n",
    "    * Longo tempo entre feedbacks\n",
    "    * Valor apenas no final\n",
    "    * Caso haja alguma mudança o custo dela será muito alto\n",
    "    \n",
    "    \n",
    "* __Ágil:__\n",
    "    * Quebra a estrutura em lotes, requisitos para cada pequeno lote\n",
    "    * Basicamente faz-se um pouco de cada uma das etapas do projeto de desenvolvimento o tempo todo\n",
    "    * Isto gera feedbacks mais rapidos\n"
   ]
  },
  {
   "cell_type": "markdown",
   "metadata": {},
   "source": [
    "# Principais diferenciais do Ágil"
   ]
  },
  {
   "cell_type": "markdown",
   "metadata": {},
   "source": [
    "Nas estapas iniciais de um novo projeto, é preciso definir algumas coisas:\n",
    "* O projeto e seu objetivo final.\n",
    "* O que você quer solucionar com esse projeto.\n",
    "* O projeto em metas/tarefas para atingir o objetivo final.\n",
    "\n",
    "Apartir dai devemos aplicar os principais diferencias do ágil,que são:\n",
    "\n",
    "* __Priorização:__ Priorizar as etapas a serem feitas levando em conta alguns critérios que dependerá do contexto, tentando identificar aquelas tarefas que são mais importes e o por que\n",
    "\n",
    "\n",
    "* __Fluxo:__ Determinar a cadeia de eventos a serem seguidos emd eterminado ritmo, ou seja, um fluxo que priorize a resolução desse problema, ou seja, foque no que é mais importante\n",
    "\n",
    "\n",
    "* __Feedback:__ Com o feedback do cliente é possível fazer alterações no fluxo ou até eliminar tarefas que não sejam mais necessárias"
   ]
  },
  {
   "cell_type": "markdown",
   "metadata": {},
   "source": [
    "# O que é ser Ágil?"
   ]
  },
  {
   "cell_type": "markdown",
   "metadata": {},
   "source": [
    "___\" Ser ágil é entregar valor rapidamente, reduzindo os custos de mudança e de incertezas. \"___"
   ]
  },
  {
   "cell_type": "markdown",
   "metadata": {},
   "source": [
    "Podemos destacar alguns pontos importantes sobre _ser ágil_\n",
    "\n",
    "* Entregar valor rapidamente, ou seja, focar no que gera mais valor para o cliente, ao ser apresentado ao problema devemos oferecer __entregas parciais__ de acordo com a necessidade desse cliente\n",
    "\n",
    "\n",
    "* As entregas constantes geram um ciclo, que por sua vez fazem com que os __fluxos e feedbacks__ sejam constantes e o aprimoramento do produto seja cada vez melhor\n",
    "\n",
    "\n",
    "* A agilidade não trará mais velocidade logo de imediato, mas sim ao longo do tempo quando o desperdício for eliminado, e a qualidade for aumentada e percebida."
   ]
  },
  {
   "cell_type": "markdown",
   "metadata": {},
   "source": [
    "# Manifesto Ágil"
   ]
  },
  {
   "cell_type": "markdown",
   "metadata": {},
   "source": [
    "__Consiste de 4 valores de 12 principios__"
   ]
  },
  {
   "cell_type": "markdown",
   "metadata": {},
   "source": [
    "* __Valores__\n",
    "    * __Pessoas e suas interações__ são mais importantes do que processos e ferramentas\n",
    "    * __Software funcionando__ é mais importante do que documentação compreensiva\n",
    "    * __Colaboração com o cliente__ é mais importante do que a negociação do contrato\n",
    "    * __Responder a mudanças__ é mais importante do que seguir o plano\n",
    "    \n",
    "___OBS:___ Não há algo que seja dispensável nas proposições acima, tudo é necessário, porem trata-se de priorizar aquilo que deve ser encarado como mais importante"
   ]
  },
  {
   "cell_type": "markdown",
   "metadata": {},
   "source": [
    "* __Os 12 principios__\n",
    "    * https://agilemanifesto.org/iso/ptbr/manifesto.html"
   ]
  }
 ],
 "metadata": {
  "kernelspec": {
   "display_name": "Python 3",
   "language": "python",
   "name": "python3"
  },
  "language_info": {
   "codemirror_mode": {
    "name": "ipython",
    "version": 3
   },
   "file_extension": ".py",
   "mimetype": "text/x-python",
   "name": "python",
   "nbconvert_exporter": "python",
   "pygments_lexer": "ipython3",
   "version": "3.7.4"
  },
  "latex_envs": {
   "LaTeX_envs_menu_present": true,
   "autoclose": true,
   "autocomplete": true,
   "bibliofile": "biblio.bib",
   "cite_by": "apalike",
   "current_citInitial": 1,
   "eqLabelWithNumbers": true,
   "eqNumInitial": 1,
   "hotkeys": {
    "equation": "Ctrl-E",
    "itemize": "Ctrl-I"
   },
   "labels_anchors": false,
   "latex_user_defs": false,
   "report_style_numbering": false,
   "user_envs_cfg": false
  },
  "toc": {
   "base_numbering": 1,
   "nav_menu": {},
   "number_sections": true,
   "sideBar": true,
   "skip_h1_title": false,
   "title_cell": "Table of Contents",
   "title_sidebar": "Contents",
   "toc_cell": false,
   "toc_position": {},
   "toc_section_display": true,
   "toc_window_display": false
  }
 },
 "nbformat": 4,
 "nbformat_minor": 2
}
