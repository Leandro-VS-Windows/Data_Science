{
 "cells": [
  {
   "cell_type": "markdown",
   "metadata": {},
   "source": [
    "[Dumentação SkLearn: User Guide](https://scikit-learn.org/stable/user_guide.html)"
   ]
  },
  {
   "cell_type": "markdown",
   "metadata": {
    "heading_collapsed": true
   },
   "source": [
    "# Linear Models"
   ]
  },
  {
   "cell_type": "markdown",
   "metadata": {
    "hidden": true
   },
   "source": [
    "Veremos uma série de métodos destinados a regressão onde espera-se que o nosso alvo ($ŷ$) seja uma combinação linear das features, ou seja:\n",
    "\n",
    "\\begin{equation*}\n",
    "    ŷ(w,x) = w_0 + w_1x_1 + ... + w_px_p\n",
    "\\end{equation*}\n",
    "\n",
    "Onde, $w = (w_1, ..., w_p)$ são os _coef__ (coeficientes angulares) e $w_0$ _intercept__ (coeficiente linear) "
   ]
  },
  {
   "cell_type": "markdown",
   "metadata": {
    "hidden": true
   },
   "source": [
    "## Minimos Quadrados "
   ]
  },
  {
   "cell_type": "markdown",
   "metadata": {
    "hidden": true
   },
   "source": [
    "Regressões Lineares interceptam um modelo linear com os coeficientes $w$ para minimizar a soma residual dos quadrados entre o alvo observado no dataset e os alvos previstos pela aproximação linear. Matematicamente o que o _fit_ de um modelo linear procura é:\n",
    "\n",
    "\\begin{equation*}\n",
    "    min_w ||X_w - y||^2_2\n",
    "\\end{equation*}\n",
    "\n",
    "O modelo de regressão linear, no seu metodo _fit_ toma os vetores X e y, e armazena os coeficientes no seu  membro _coef__"
   ]
  },
  {
   "cell_type": "code",
   "execution_count": 1,
   "metadata": {
    "hidden": true
   },
   "outputs": [
    {
     "data": {
      "text/plain": [
       "LinearRegression(copy_X=True, fit_intercept=True, n_jobs=None, normalize=False)"
      ]
     },
     "execution_count": 1,
     "metadata": {},
     "output_type": "execute_result"
    }
   ],
   "source": [
    "from sklearn import linear_model\n",
    "reg = linear_model.LinearRegression()\n",
    "reg.fit([[0, 0], [1, 1], [2, 2]], [0, 1, 2])"
   ]
  },
  {
   "cell_type": "code",
   "execution_count": 2,
   "metadata": {
    "hidden": true
   },
   "outputs": [
    {
     "data": {
      "text/plain": [
       "array([0.5, 0.5])"
      ]
     },
     "execution_count": 2,
     "metadata": {},
     "output_type": "execute_result"
    }
   ],
   "source": [
    "reg.coef_"
   ]
  },
  {
   "cell_type": "markdown",
   "metadata": {
    "hidden": true
   },
   "source": [
    "__OBS 1:__ Os coeficientes estimados dependem da _independencia das features_ , quando as features são correlacionadas e as colunas da matrix X possuem uma aproximação linear, o resultado dos minimos quadrados torna-se muito sensível a erros aleatórios nos alvos observados (alvos do dataset), produzindo assim uma alta variancia"
   ]
  },
  {
   "cell_type": "markdown",
   "metadata": {
    "hidden": true
   },
   "source": [
    "__OBS 2:__ Complexidade - Para uma matrix (n_samples, n_features) o método tem um custo $O(n_{samples}n^2_{features})$ , assumindo que $n_{samples} \\geq n_{features}$"
   ]
  },
  {
   "cell_type": "markdown",
   "metadata": {
    "hidden": true
   },
   "source": [
    "## Ridge Regression and Classification"
   ]
  },
  {
   "cell_type": "markdown",
   "metadata": {
    "hidden": true
   },
   "source": [
    "### Ridge Regression"
   ]
  },
  {
   "cell_type": "markdown",
   "metadata": {
    "hidden": true
   },
   "source": [
    "_Ridge Regression_ contempla alguns dos mesmos problemas do que os Minimos quadrados porém adiciona uma penalidade para o tamanho dos coeficientes. \n",
    "\n",
    "\\begin{equation*}\n",
    "    min_w ||X_w - y||^2_2 + \\alpha||w||^2_ 2\n",
    "\\end{equation*}\n",
    "\n",
    "O parametro $\\alpha \\geq 0$ controla o \"encolhimento\", quanto maior o valor, maior a quantidade de encolhimento e, portanto, os coeficientes se tornam mais robustos à colinearidade."
   ]
  },
  {
   "cell_type": "code",
   "execution_count": 3,
   "metadata": {
    "hidden": true
   },
   "outputs": [
    {
     "data": {
      "text/plain": [
       "Ridge(alpha=0.8, copy_X=True, fit_intercept=True, max_iter=None,\n",
       "      normalize=False, random_state=None, solver='auto', tol=0.001)"
      ]
     },
     "execution_count": 3,
     "metadata": {},
     "output_type": "execute_result"
    }
   ],
   "source": [
    "reg = linear_model.Ridge(alpha=.8)\n",
    "reg.fit([[0, 0], [0, 0], [1, 1]], [0, .1, 1])"
   ]
  },
  {
   "cell_type": "code",
   "execution_count": 4,
   "metadata": {
    "hidden": true
   },
   "outputs": [
    {
     "name": "stdout",
     "output_type": "stream",
     "text": [
      "[0.296875 0.296875]\n",
      "\n",
      "0.16875000000000007\n"
     ]
    }
   ],
   "source": [
    "print(reg.coef_)\n",
    "print()\n",
    "print(reg.intercept_)"
   ]
  },
  {
   "cell_type": "markdown",
   "metadata": {
    "hidden": true
   },
   "source": [
    "_Quanto maior for o valor de alpha mais próximo da reta estimada (fit) os coeficientes estarão_"
   ]
  },
  {
   "cell_type": "markdown",
   "metadata": {
    "hidden": true
   },
   "source": [
    "### Ridge Classification"
   ]
  },
  {
   "cell_type": "markdown",
   "metadata": {
    "hidden": true
   },
   "source": [
    "O _ridge regressor_ é uma variação do _Ridge Classifier_. Este classificador converte o alvo binário para {-1, 1} e então trata o problema como uma tarefa de regressão, otimizando o mesmo objeto como visto acima. Para uma classificação multi classes, o problema é tratado como uma regressão de multiplos outputs e a classe prevista corresponde com o output de maior valor. <br>\n",
    "Mesmo utilizando uma metrica de perda por minimos quadrados (Last Squares Loss), na pratica todos esses modelos, com essa metrica ou com outras, podem lidar com validação cruzada e obter scores em accuracy, precisio/recall similares."
   ]
  },
  {
   "cell_type": "markdown",
   "metadata": {
    "hidden": true
   },
   "source": [
    "__OBS:__ RidgeClassifier pode ser significativamente mais eficiente que  LogisticRegression para prever um grande numero de classes, por que ele computa a matrix de projeção $(X^TX)^{-1}X^T$ apenas uma vez."
   ]
  },
  {
   "cell_type": "markdown",
   "metadata": {
    "hidden": true
   },
   "source": [
    "#### Validação Cruzada Generalizada"
   ]
  },
  {
   "cell_type": "markdown",
   "metadata": {
    "hidden": true
   },
   "source": [
    "__RidgeCV__ implementa uma _ridge regression_ com validação cruzada do parametro $\\alpha$. É semelhante ao GridSearchCV porem neste caso trata-se de uma _GCV (Generalized Cross-Validation)_ , ou seja, uma validação cruzada de exclusão única. "
   ]
  },
  {
   "cell_type": "code",
   "execution_count": 5,
   "metadata": {
    "hidden": true
   },
   "outputs": [
    {
     "data": {
      "text/plain": [
       "RidgeCV(alphas=array([1.e-06, 1.e-05, 1.e-04, 1.e-03, 1.e-02, 1.e-01, 1.e+00, 1.e+01,\n",
       "       1.e+02, 1.e+03, 1.e+04, 1.e+05, 1.e+06]),\n",
       "        cv=None, fit_intercept=True, gcv_mode=None, normalize=False,\n",
       "        scoring=None, store_cv_values=False)"
      ]
     },
     "execution_count": 5,
     "metadata": {},
     "output_type": "execute_result"
    }
   ],
   "source": [
    "import numpy as np\n",
    "from sklearn import linear_model\n",
    "reg = linear_model.RidgeCV(alphas=np.logspace(-6, 6, 13))\n",
    "reg.fit([[0, 0], [0, 0], [1, 1]], [0, .1, 1])"
   ]
  },
  {
   "cell_type": "code",
   "execution_count": 7,
   "metadata": {
    "hidden": true
   },
   "outputs": [
    {
     "data": {
      "text/plain": [
       "0.01"
      ]
     },
     "execution_count": 7,
     "metadata": {},
     "output_type": "execute_result"
    }
   ],
   "source": [
    "#Best alpha\n",
    "reg.alpha_"
   ]
  },
  {
   "cell_type": "markdown",
   "metadata": {
    "hidden": true
   },
   "source": [
    "## LASSO"
   ]
  },
  {
   "cell_type": "markdown",
   "metadata": {
    "hidden": true
   },
   "source": [
    "_Lasso_ é um modelo linear que estima os coeficientes de uma matriz esparsa. É útil em varios contexto devido a dar preferencia para soluções com menos zeros como coeficientes, reduzindo assim o numero de features dos quais a solução fornecida depende. <br>\n",
    "Matematicamente consiste de um modelo linear com um termo de regularização, e o objetivo é minimiza-lo:\n",
    "\n",
    "\\begin{equation*}\n",
    "    min_w \\frac{1}{2n_{samples}}||X_w - y||^2_2 + \\alpha||w||_1\n",
    "\\end{equation*}\n",
    "\n",
    "Onde, neste caso $\\alpha$ é uma constante e $||w||_1$ é uma _regularização_ $l_1$ do vetor coeficiente"
   ]
  },
  {
   "cell_type": "markdown",
   "metadata": {
    "hidden": true
   },
   "source": [
    "A função Lasso é útil para tarefas simples, pois calcula os coeficientes ao longo de todo o caminho de soluções possiveis."
   ]
  },
  {
   "cell_type": "markdown",
   "metadata": {
    "hidden": true
   },
   "source": [
    "## Os demais modelos apresentados ja serão abordados no estudo dos mesmo através do livro do Sebastian Raschka"
   ]
  },
  {
   "cell_type": "markdown",
   "metadata": {},
   "source": [
    "# Linear and Quadratic Discriminant Analysis"
   ]
  },
  {
   "cell_type": "code",
   "execution_count": null,
   "metadata": {},
   "outputs": [],
   "source": []
  },
  {
   "cell_type": "code",
   "execution_count": null,
   "metadata": {},
   "outputs": [],
   "source": []
  },
  {
   "cell_type": "code",
   "execution_count": null,
   "metadata": {},
   "outputs": [],
   "source": []
  },
  {
   "cell_type": "code",
   "execution_count": null,
   "metadata": {},
   "outputs": [],
   "source": []
  }
 ],
 "metadata": {
  "kernelspec": {
   "display_name": "Python 3",
   "language": "python",
   "name": "python3"
  },
  "language_info": {
   "codemirror_mode": {
    "name": "ipython",
    "version": 3
   },
   "file_extension": ".py",
   "mimetype": "text/x-python",
   "name": "python",
   "nbconvert_exporter": "python",
   "pygments_lexer": "ipython3",
   "version": "3.7.4"
  },
  "latex_envs": {
   "LaTeX_envs_menu_present": true,
   "autoclose": true,
   "autocomplete": true,
   "bibliofile": "biblio.bib",
   "cite_by": "apalike",
   "current_citInitial": 1,
   "eqLabelWithNumbers": true,
   "eqNumInitial": 1,
   "hotkeys": {
    "equation": "Ctrl-E",
    "itemize": "Ctrl-I"
   },
   "labels_anchors": false,
   "latex_user_defs": false,
   "report_style_numbering": false,
   "user_envs_cfg": false
  },
  "toc": {
   "base_numbering": 1,
   "nav_menu": {},
   "number_sections": true,
   "sideBar": true,
   "skip_h1_title": false,
   "title_cell": "Table of Contents",
   "title_sidebar": "Contents",
   "toc_cell": false,
   "toc_position": {},
   "toc_section_display": true,
   "toc_window_display": true
  }
 },
 "nbformat": 4,
 "nbformat_minor": 2
}
