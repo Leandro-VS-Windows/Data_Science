{
 "cells": [
  {
   "cell_type": "markdown",
   "metadata": {},
   "source": [
    "# Introdução ao Google Cloud Platform"
   ]
  },
  {
   "cell_type": "markdown",
   "metadata": {},
   "source": [
    "__Google Cloud Platform__ baseia-se em quatro pilares:\n",
    "\n",
    "* __Compute Power:__ Essencial para os_jobs_ de ML e Analytics, GCP dispõe de super computadores distribuidos para suprir as demandas dos usuarios, além de ser adaptável e escalável.\n",
    "\n",
    "* __Storage:__ Uma estrutura de armazenamento dos dados adquiridos e/ou transformados com _compute power_ (que pode ser uma VM por exemplo), apartir da qual poderão ser tratados e analisados posteriormente. Uma vantagem de se fazer isso é poder dispensar(ou interromper) a VM criada para cortar o custo por exemplo.\n",
    "\n",
    "* __Networking:__ Com uma largura de banda de __1 petabit__ a rede particular do Google é responsável por __40%__ do tráfego mundial, isto aliado a centenas de conexões com a rede pública promove uma integração de alta disponibilidade e performance, e como resultado é possível que qualquer maquina comunique-se com outra de um datacenter a mais de ___10 gigabits por segundo___\n",
    "\n",
    "* __Security:__ Fornece uma segurança de alto nível de diversas camadas, desde hardware até o auxilio a politicas de proteção de dados."
   ]
  },
  {
   "cell_type": "markdown",
   "metadata": {},
   "source": [
    "## Produtos de Big Data e Machine Learning"
   ]
  },
  {
   "cell_type": "markdown",
   "metadata": {},
   "source": [
    "__Linha do tempo da inovação dos produtos Goolgle:__\n",
    "\n",
    "* __2002:__\n",
    "    * GFS: Google File System criado para lidar com _petabytes_ de dados em escala (Pai do BigQuery)\n",
    "\n",
    "* __2004:__\n",
    "    * MapReduce: Responsável por gerenciar o processamento de dados em larga escala, em grandes clusteres de servidores tradicionais. Isto foi criado para resolver o problema de indexão do volumoso, e crescente, conteúdo da web\n",
    "    \n",
    "* __2006:__\n",
    "    * Cloud BigTable: Criado para solucionar o problema de gravação e recuperação de milhões de ações de usuários de streaming com alta capacidade. BigTable foi uma inspiração para o _Hbase_ e _MongoDB_\n",
    "    \n",
    "* __2008:__\n",
    "    * Dremel: Afim de livrar o grande trabalho que os desenvolvedores tinham em escrever todo o código do mapreduce preocupando-se com o processamento e clusteres, ao invés de apenas na lógico da aplicação, o Dremel automatiza estas estapas e processo os dados de uma maneira diferente do mapreduce, utilizando os servidores tradicionais do google para servi-lo.    \n",
    "    \n",
    "    \n",
    "* __2010:__\n",
    "    * Colossus: Armazenamento de dados distribuidos de última geração\n",
    "    * Flume: Pipeline de dados\n",
    "    * Megastore\n",
    "    \n",
    "* __2012:__\n",
    "    * Spanner: Banco de Dados Relacional de escala global\n",
    "    * Millwheel: Pipeline de dados\n",
    "    * Pub/Sub: Envio de Mensagens\n",
    "    * F1: Banco de dados Escalável\n",
    "    \n",
    "* __2014:__\n",
    "    * Tensor Flow: Machine Learing\n",
    "    \n",
    "* __2016:__\n",
    "    * TPU: Hardware especializado e otimizado para ML\n",
    "    \n",
    "* __2018:__\n",
    "    * Alto ML: Automatic Machine Learning\n",
    "    \n",
    "    \n",
    "__OBS:__ _Todas essas ferramentes estão disponíveis para uso no Google Cloud Plataform_ "
   ]
  },
  {
   "cell_type": "markdown",
   "metadata": {},
   "source": [
    "## Serviços do GCP"
   ]
  },
  {
   "cell_type": "markdown",
   "metadata": {},
   "source": [
    "* __Compute Engine:__ O serviço mais conhecido da gcp, que permite executar máquinas virtuais na nuvem sob demanda. É a solução de _infraestrutura como serviço (IaaS)_ do Google Cloud, oferecendo maxima flexibilidade para gerenciar instancias do servidor. \n",
    "\n",
    "\n",
    "* __Google kubernetes Engine (GKE):__ GKE possui clusters de máquinas que executam containers, ou seja, permite a execução de aplicativos em containers em um ambiente cloud gerenciado pelo Google. Com diversos programas, diversos containers sendo executados, se faz necessário uma estrutura para gerenciar todos esses containers em execução e é exatamente isso o que Kubernetes faz. \n",
    "\n",
    "\n",
    "* __App Engine:__ Uma ferramenta que gerencia toda a infraestrutura na nuvem para que o usuario possa focar apenas no desenvolvimento do seu código, para isso utiliza do conceito de _Plataforma como uma Serviço (PaaS)._\n",
    "\n",
    "\n",
    "* __Cloud Functions:__ Ambiente de Execução totalmente sem servidor ou _Função como um serviço (FaaS)_, executando um código em decorrencia de um __evento__, nao importando se tal evento ocorra uma vez por dia ou varias vezes por segundo\n",
    "\n",
    "* __Storage:__ Há diversas ferramentas que o gcp gerencia para banco de dados relacionais ou não, reduzindo todo o trabalho necessario para armazenar diferentes tipos de dados.\n",
    "\n",
    "* __Big Data:__ Muitos recursos para lidar com grande volumes de dados e aplicar machine learning a eles, tudo com a infraestrutura gerenciada pelo GCP\n",
    "\n",
    "__etc...__"
   ]
  },
  {
   "cell_type": "markdown",
   "metadata": {},
   "source": []
  },
  {
   "cell_type": "markdown",
   "metadata": {},
   "source": []
  },
  {
   "cell_type": "markdown",
   "metadata": {},
   "source": []
  },
  {
   "cell_type": "markdown",
   "metadata": {},
   "source": []
  }
 ],
 "metadata": {
  "kernelspec": {
   "display_name": "Python 3",
   "language": "python",
   "name": "python3"
  },
  "language_info": {
   "codemirror_mode": {
    "name": "ipython",
    "version": 3
   },
   "file_extension": ".py",
   "mimetype": "text/x-python",
   "name": "python",
   "nbconvert_exporter": "python",
   "pygments_lexer": "ipython3",
   "version": "3.7.4"
  },
  "latex_envs": {
   "LaTeX_envs_menu_present": true,
   "autoclose": true,
   "autocomplete": true,
   "bibliofile": "biblio.bib",
   "cite_by": "apalike",
   "current_citInitial": 1,
   "eqLabelWithNumbers": true,
   "eqNumInitial": 1,
   "hotkeys": {
    "equation": "Ctrl-E",
    "itemize": "Ctrl-I"
   },
   "labels_anchors": false,
   "latex_user_defs": false,
   "report_style_numbering": false,
   "user_envs_cfg": false
  },
  "toc": {
   "base_numbering": 1,
   "nav_menu": {},
   "number_sections": true,
   "sideBar": true,
   "skip_h1_title": false,
   "title_cell": "Table of Contents",
   "title_sidebar": "Contents",
   "toc_cell": false,
   "toc_position": {},
   "toc_section_display": true,
   "toc_window_display": true
  }
 },
 "nbformat": 4,
 "nbformat_minor": 2
}
