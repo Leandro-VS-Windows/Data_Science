{
 "cells": [
  {
   "cell_type": "markdown",
   "metadata": {},
   "source": [
    "# Identity Access Management (IAM)"
   ]
  },
  {
   "cell_type": "markdown",
   "metadata": {},
   "source": [
    "__IAM__ é um serviço que ajuda no acesso seguro aos serviços da AWS. É usado para autenticação e autorização para a utilização dos recursos.\n",
    "Há dois conceitos importantes _Autenticação_ e _Autorização_, ambos de diferem segundo o usuario.\n",
    "\n",
    "* __User, Group and Role__ --> _Autenticação_\n",
    "* __Policy Document__ --> _Autorização_"
   ]
  },
  {
   "cell_type": "markdown",
   "metadata": {},
   "source": [
    "* __User__ --> Refere-se ao operador, pode ser um humano, uma maquina ou outro serviço da aws\n",
    "* __Group__ --> Coleção de usuarios\n",
    "* __Role__ --> Também é um operador e também pode ser um humano ou serviço aws. A diferença para os demais está no fato de que para _Users e Groups_ a autenticação é permanente, para _Role_ é temporária"
   ]
  },
  {
   "cell_type": "markdown",
   "metadata": {},
   "source": [
    "Uma vez que um user/role são autenticados pela AWS, é gerado um documento de permissão (autorização) baseado no \"document policy\" que estão ligados a ele.\n",
    "Policy Documents (Json) podem ser ligadas a users, groups e role. Se uma policy é ligada a um grupo, um user que se junte ao grupo herdará a mesma policy."
   ]
  },
  {
   "cell_type": "markdown",
   "metadata": {},
   "source": [
    "# VPC"
   ]
  },
  {
   "cell_type": "markdown",
   "metadata": {},
   "source": [
    "Amazon __Virtual Private Cloud__ permite utilizar os recursos da AWS em uma network privada que o usuario define. Uma Virtual network é similar a network tradicional que permite operar no seu proprio data center, o principal benecifio é que transpondo isso para a aws toda a infraestrutura torna-se escalável. Basicamente podemos dizer que ao utilizar uma VPC estamos realocando o data center local para a insfraestrutura de cloud da AWS.\n",
    "\n",
    "\n",
    "__Caracteristicas e Terminologias:__\n",
    "* VPC é uma network dedicada para a sua conta AWS\n",
    "* _Subnet_ é o alcance do endereço IP da sua VPC\n",
    "* _Route table_ contém um conjunto de rules, chamados __routes__, que são usados para determinar onde o trafego de rede é direcionado\n",
    "* Um _gateway_ de internet permite a comunicação das suas instancias com a internet"
   ]
  },
  {
   "cell_type": "markdown",
   "metadata": {},
   "source": [
    "__Exemplo:__"
   ]
  },
  {
   "cell_type": "markdown",
   "metadata": {},
   "source": [
    "![](vpc.png)"
   ]
  },
  {
   "cell_type": "markdown",
   "metadata": {},
   "source": [
    "* Temos nossa seção da aws logada em uma seção (N. Virginia)\n",
    "* Definimos uma VPC com uma única subnet publica (10.0.0.0/16\n",
    "* Agora instanciamos maquinas (EC2) em duas _availiability zones_ diferentes (AZ-1 e AZ-2)\n",
    "* A comunicação entre as duas Instancias EC2 (entre as AZ) dentro da VPC é feito pelo __Router__ gerenciado pela AWS\n",
    "* A comunicação das instancias com o mundo externo a VPC é feita pelo __Internet Gateway__\n",
    "    * Internet Gataway gerenciado o trafego para fora da vpc, alterando o ip interno para um ip publico, e faz o contrário quando o sentido de comunicação muda (Route Table)."
   ]
  },
  {
   "cell_type": "markdown",
   "metadata": {},
   "source": [
    "# Elastic Compute Cloud (EC2)"
   ]
  },
  {
   "cell_type": "markdown",
   "metadata": {},
   "source": [
    "Amazon __EC2__ fornece a capacidade de computação escalável na AWS Cloud. Cada ambiente de computação virtual são chamados de instancias.\n",
    "_Amazon Machine Images (AMIs)_ estão disponíveis em templates pré-configurados de instancias EC2"
   ]
  },
  {
   "cell_type": "markdown",
   "metadata": {},
   "source": [
    "__Terminologias:__\n",
    "\n",
    "* Instance types --> diferentes configurações de CPU, memoria, armazenamento e capacidade de rede\n",
    "* Secure Login em instancias EC2 com _key pair_ --> Você armazena a private key e a AWS armazena a public key\n",
    "* É possível adicionar volumes de armazenamentos (attach storage volumes) para uma instancia EC2 (instance storage volumes) - É um armazenamento efemero.\n",
    "* Volumes de armazenamento persistente estão disponíveis através do __Elastic Block Storage (EBS) - Amazon EBS Volumes__\n",
    "* É possível armazenar os dados em multiplas regiões (Regions and AZs)\n",
    "* Podemos definir uma segurança basica usando __AWS built-in firewall- security group__ com protocolos, portas, fontes de IPs que podemos permitir ou negar o alcance das instancias EC2\n",
    "* __Elastic IP address__ --> Endereço publico de IPv4 estático que podemos \"ligar\" a uma instancia EC2 (ex: Website)\n",
    "* É possível criar e ligar a tags(labels) as nossas instancias EC2"
   ]
  },
  {
   "cell_type": "markdown",
   "metadata": {},
   "source": [
    "__Algumas outras caracteristicas:__\n",
    "\n",
    "* Quando criamos uma instancia EC2, primeiramente devemos selecionar uma _AMI - Amazon Machine Image_, que basicamente representará o software \n",
    "    * Todas as _AMIs_ são categorizadas e suportados pelo Amazon EBS ou por uma instancia de armazenamento\n",
    "    * Para AMIs com o volume principal suportado por um EBS, os dados são deletados quando a instancia é encerrada, se o suporte for de um volume de armazenamento os dados serão persistidos\n",
    " \n",
    " \n",
    "* Em seguida devemos escolhar o tipo de hardware\n",
    "    * Cada tipo de instancia oferece diferentes tipos de configurações\n",
    "    \n",
    "    \n",
    "* Um outro aspecto importante é o gasto, há 4 maneiras de pagas instancias EC2: __On-Demand, Reserved, Spot e Dedicated Hosts__\n",
    "    * _On-Demand_ --> Pagamento feito pelos recursos computacionais utilizados por hora ou secondos, dependendo da instancia em execução\n",
    "    * _Spot_ --> Permite poupar até 90% do valor de um modelo On-Demand, é aplicável para:\n",
    "        * Aplicações que tenham inicio e fim flexiveis\n",
    "        * Aplicações que sejam factiveis com baixo comsumo computacional, resultando em baixo custo\n",
    "        * Urgencia por mais capacidade ou capacidade adicional\n",
    "    * _Reserve_ --> Oferece uma economia de até 75% se comparado ao On-Demand\n",
    "        * Recomendável para aplicações cuja capacidade computacional é previsível\n",
    "    * _Dedicate Host_ --> Trata-se de um servidor EC2 fisico, dedicado ao usuario\n",
    "        * Ajuda na redução de custos, permitindo que o usuario utilize seu propio server"
   ]
  },
  {
   "cell_type": "markdown",
   "metadata": {},
   "source": [
    "![](amis.png)"
   ]
  },
  {
   "cell_type": "code",
   "execution_count": null,
   "metadata": {},
   "outputs": [],
   "source": []
  },
  {
   "cell_type": "code",
   "execution_count": null,
   "metadata": {},
   "outputs": [],
   "source": []
  },
  {
   "cell_type": "code",
   "execution_count": null,
   "metadata": {},
   "outputs": [],
   "source": []
  },
  {
   "cell_type": "code",
   "execution_count": null,
   "metadata": {},
   "outputs": [],
   "source": []
  },
  {
   "cell_type": "code",
   "execution_count": null,
   "metadata": {},
   "outputs": [],
   "source": []
  },
  {
   "cell_type": "code",
   "execution_count": null,
   "metadata": {},
   "outputs": [],
   "source": []
  },
  {
   "cell_type": "code",
   "execution_count": null,
   "metadata": {},
   "outputs": [],
   "source": []
  },
  {
   "cell_type": "code",
   "execution_count": null,
   "metadata": {},
   "outputs": [],
   "source": []
  },
  {
   "cell_type": "code",
   "execution_count": null,
   "metadata": {},
   "outputs": [],
   "source": []
  }
 ],
 "metadata": {
  "kernelspec": {
   "display_name": "Python 3",
   "language": "python",
   "name": "python3"
  },
  "language_info": {
   "codemirror_mode": {
    "name": "ipython",
    "version": 3
   },
   "file_extension": ".py",
   "mimetype": "text/x-python",
   "name": "python",
   "nbconvert_exporter": "python",
   "pygments_lexer": "ipython3",
   "version": "3.7.4"
  },
  "latex_envs": {
   "LaTeX_envs_menu_present": true,
   "autoclose": true,
   "autocomplete": true,
   "bibliofile": "biblio.bib",
   "cite_by": "apalike",
   "current_citInitial": 1,
   "eqLabelWithNumbers": true,
   "eqNumInitial": 1,
   "hotkeys": {
    "equation": "Ctrl-E",
    "itemize": "Ctrl-I"
   },
   "labels_anchors": false,
   "latex_user_defs": false,
   "report_style_numbering": false,
   "user_envs_cfg": false
  },
  "toc": {
   "base_numbering": 1,
   "nav_menu": {},
   "number_sections": true,
   "sideBar": true,
   "skip_h1_title": false,
   "title_cell": "Table of Contents",
   "title_sidebar": "Contents",
   "toc_cell": false,
   "toc_position": {},
   "toc_section_display": true,
   "toc_window_display": false
  }
 },
 "nbformat": 4,
 "nbformat_minor": 4
}
