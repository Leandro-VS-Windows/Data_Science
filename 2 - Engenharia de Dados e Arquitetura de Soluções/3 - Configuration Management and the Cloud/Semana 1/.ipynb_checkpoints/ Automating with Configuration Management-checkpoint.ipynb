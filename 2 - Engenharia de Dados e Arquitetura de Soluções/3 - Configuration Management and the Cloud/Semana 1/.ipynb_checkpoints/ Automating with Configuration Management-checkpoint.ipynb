{
 "cells": [
  {
   "cell_type": "markdown",
   "metadata": {},
   "source": [
    "# Introduction to Automation at Scale"
   ]
  },
  {
   "cell_type": "markdown",
   "metadata": {},
   "source": [
    "Independente do tamanho do time ou da quantidade de computadores na rede, saber implementar tecnicas de automação irá tornar o trabalho bem mais eficiente. Alguns conceitos de automação que serão abordados:\n",
    "\n",
    "* Scale\n",
    "* Configuration Management\n",
    "* Infrastructure as Code\n",
    "\n",
    "Estes conceitos são os \"blocos de construção\" que nos permitirão gerir um numero crescente de dispositivos, sem ter um time encarregado de cada um deles. "
   ]
  },
  {
   "cell_type": "markdown",
   "metadata": {},
   "source": [
    "## What is scale?"
   ]
  },
  {
   "cell_type": "markdown",
   "metadata": {},
   "source": [
    "___\"Ser capaz de 'escalar' o que fazemos significa que podemos continuar alcançando impactos maiores com a mesma quantidade de esforço\"___"
   ]
  },
  {
   "cell_type": "markdown",
   "metadata": {},
   "source": [
    "__Ex:__ Se uma aplicação web for \"escalável\", então ela consegue lidar com um numero crescente de usuarios adicionando mais servidores para servir aos requests, ou seja, __um sistema escalável é flexível.__ "
   ]
  },
  {
   "cell_type": "markdown",
   "metadata": {},
   "source": [
    "Entretanto, levando em conta o exemplo acima podemos nos fazer diversas perguntas que poderão ser facilmente respondidas, OU NÃO, dependendo da insfraestrutura utilizada, como por exemplo:\n",
    "\n",
    "* Adicionar mais servidores aumenta a capacidade do serviço?\n",
    "* Como novos servidores são preparados, instalados e configurados?\n",
    "* O quão rapido você consegue configurar novos computadores para que estejão prontos para serem usados?\n",
    "* É possível fazer o deploy de centenas de servidores com o mesmo time de TI que temos hoje?\n",
    "* Mais pessoas tornaram a tarefa mais rapida?\n",
    "* Todos os servidores implantados podem ser configurados exatamente da mesma maneira?"
   ]
  },
  {
   "cell_type": "markdown",
   "metadata": {},
   "source": [
    "Uma possível resposta para todas essas perguntas poderia ser: __Automação__ <br>\n",
    "<br>\n",
    "___Automação: Uma ferramenta essencial para acompanhar as necessidades da infraestrutura de um negócio em crescimento___ <br>\n",
    "\n",
    "Usando as ferramentas certas para automação, muito mais pode ser feito no mesmo periodo de tempo."
   ]
  },
  {
   "cell_type": "markdown",
   "metadata": {},
   "source": [
    "## What is configuration management?"
   ]
  },
  {
   "cell_type": "markdown",
   "metadata": {},
   "source": [
    "Supondo que teremos que configurar um novo servidor, que pode ser uma maquina fisica ou uma maquina virtual na cloud. Para tanto são necessários varios itens a serem instalados e configurados, como: sistema operacional, algumas aplicações e serviçõs, configurações de redes, politicas de segurança e tudo mais que for necessário para o servidor. Quando tudo esta pronto resta fazer o deploy do servidor para uso. <br>\n",
    "Esta configuração toda feita manualmente é chamada de __\"Unmanaged Configuration\"__ (configuração não gerenciada). <br>\n",
    "Porém na maior parte do tempo estaremos interessados em lidar com diversos devices ao mesmo tempo ou diversos servidores. <br>\n",
    "<br>\n",
    "__Configuration Management System__ (sistema de configuração gerenciada), é um sistema encarregado de lidar com todas as configurações de todos os devices da rede, também chamados de __\"nodos\".__<br>\n",
    "Há diversas ferramentas disponíveis para isso, dependendo dos dispositivos e serviços envolvidos. Tipicamente são definidas algumas regras que devem ser aplicadas aos nodos que queremos gerenciar, então há um processo que garante que todas as configurações são verdadeiras para cada nodo."
   ]
  },
  {
   "cell_type": "markdown",
   "metadata": {},
   "source": [
    "Sistema de Configuração Gerenciada famosos dentro da TI:\n",
    "\n",
    "* Puppet\n",
    "* Chef\n",
    "* Ansible\n",
    "* CFEngine"
   ]
  },
  {
   "cell_type": "markdown",
   "metadata": {},
   "source": [
    "## What is infrastructure as code?"
   ]
  },
  {
   "cell_type": "markdown",
   "metadata": {},
   "source": [
    "Quando definimos as regras a serem implantadas pelo sistema de configuração gerenciada, que serão executadas pela automação, isto significa que podemos modelar o comportamento da infraestrutura de TI em arquivos que podem ser processados automaticamente  por ferramentas. Estes arquivos também podem ser localizados por ferramentas de versionamento. "
   ]
  },
  {
   "cell_type": "markdown",
   "metadata": {},
   "source": [
    "O paradigma do armazenamento de todas as configurações para gerenciar os dispositivos, em arquivos de controle de versionamento é conhecido como __\"Infrastructure as Code or IaC\".__ <br>\n",
    "<br>\n",
    "__IaC:__ _Quando toda a configuração necessária para o deploy e gerenciamento de um nodo de uma infraestrutura é armazenado com controle de versionamento._\n",
    "<br>\n",
    "Isto é então combinado com as ferramentas de automação para realmente tornar os nodos provisionados e gerenciados."
   ]
  },
  {
   "cell_type": "markdown",
   "metadata": {},
   "source": [
    "O conceito de IaC é tipicamente aplicado em ambientes de computação na Nuvem, onde maquinas são tratadas como recusos intercambiavies ao invés de computadores individuais."
   ]
  },
  {
   "cell_type": "markdown",
   "metadata": {},
   "source": [
    "Dois dos principais pontos positivos do IaC são:\n",
    "\n",
    "* A possibilidade de versionamento\n",
    "* A possibilidade de reverter um estado para uma aplicação anterior"
   ]
  },
  {
   "cell_type": "markdown",
   "metadata": {},
   "source": [
    "# Introdução ao Puppet"
   ]
  },
  {
   "cell_type": "markdown",
   "metadata": {},
   "source": [
    "## O que é Puppet?"
   ]
  },
  {
   "cell_type": "markdown",
   "metadata": {},
   "source": [
    "Puppet é o sistema de gerenciamento de configuração de maquinas distribuidas mais comum no mercado, originou-se de um projeto open source em 2005. Tipicamente fazemos o deploy do puppet usando a arquitetura de cliente, onde basicamente temos o _cliente_ como __Puppet Agent__ e o _serviço_ como __Puppet Master__, quando usando essa arquitetura, o puppet agent se conecta ao master e envia um conjunto de ___Facts___ descrevendo o computador, o master processa essa informação e gera uma lista de ___Rules___ que devem ser aplicadas ao dispositivo e envia estas listas ao dispositivo, o _agent_ então baseado nas _rules_ se encarrega de aplicar as mudanças necessárias no computador. "
   ]
  },
  {
   "cell_type": "markdown",
   "metadata": {},
   "source": [
    "## Puppet Resources"
   ]
  },
  {
   "cell_type": "markdown",
   "metadata": {},
   "source": [
    "_Resourcer_ são as unidades basicas de um arquivo do puppet. Ex:"
   ]
  },
  {
   "cell_type": "code",
   "execution_count": null,
   "metadata": {},
   "outputs": [],
   "source": [
    "#Este exemplo mostra um File resource para configurar o conteúdo de etc/timezone\n",
    "\n",
    "class timezone{\n",
    "    file{'etc/timezone':\n",
    "         #Atributos\n",
    "         ensure => file, #Especificamos que queremos um arquivo ao invés de diretório ou qquer outra coisa\n",
    "         content => \"UTC\\n\", #Definimos o conteúdo de tal arquivo para UTC time zone\n",
    "         replace => true, #Substituimos o conteúdo do arquivo se ele ja existir\n",
    "    \n",
    "    }\n",
    "}"
   ]
  },
  {
   "cell_type": "markdown",
   "metadata": {},
   "source": [
    "__Como essas regras fazem mudanças dentro dos computadores?__"
   ]
  },
  {
   "cell_type": "markdown",
   "metadata": {},
   "source": [
    "Quando ciramos as regras em nosso puppet resource, nós definimos o estado desejado dos recursos do sistema. O _puppet agent_ torna isso em realidade usando __Providers.__ <br>\n",
    "O Provider usado depende dos recursos definidos e do ambiente onde o agente esta sendo executado, porem o Puppet detecta isso automaticamente."
   ]
  },
  {
   "cell_type": "markdown",
   "metadata": {},
   "source": [
    "## Puppet Classes"
   ]
  },
  {
   "cell_type": "markdown",
   "metadata": {},
   "source": [
    "As classes servem para agruparmos recursos que serão úteis para uma tarefa, além de tornar as tarefas mais eficientes, convenientes para futuras mudanças e deixa o código mais fácil de entender."
   ]
  },
  {
   "cell_type": "markdown",
   "metadata": {},
   "source": [
    "# Blocks of Configuration Management"
   ]
  },
  {
   "cell_type": "markdown",
   "metadata": {},
   "source": [
    "A sintaxe do puppet inclui:\n",
    "\n",
    "* Variaveis\n",
    "* Declarações Condicionais\n",
    "* Funções"
   ]
  },
  {
   "cell_type": "markdown",
   "metadata": {},
   "source": [
    "__OBS:__ Os ___Facts___ são variaveis que representam caracteristicas do sistema."
   ]
  },
  {
   "cell_type": "code",
   "execution_count": null,
   "metadata": {},
   "outputs": [],
   "source": [
    "#facts são variaveis, toda variável é precedida por '$'\n",
    "#Em puppet são equivalentes aos dicionarios do python\n",
    "if $facts['is_virtual']{     #Neste caso fact refere-se ao valor correspondente a chave 'is_virtual'\n",
    "    #Todas as estruturas de condição devem ter um resource, neste caso ele é do tipo package\n",
    "    #Entre {} deve ser especificado o conteúdo do resource seguido por ':'\n",
    "    #tudo após os ':' são atributos que serão configurados\n",
    "    package{'smartmontools':\n",
    "        #Usa-se o '=>' para atribuir valores aos atributos e ',' ao final deles\n",
    "        ensure => purged,\n",
    "    }\n",
    "} else{\n",
    "    package{'smartmontools':\n",
    "        ensure => installed,\n",
    "    }\n",
    "}"
   ]
  },
  {
   "cell_type": "markdown",
   "metadata": {},
   "source": [
    "## Principles of Configuration Management"
   ]
  },
  {
   "cell_type": "markdown",
   "metadata": {},
   "source": [
    " - Configuration Management com Puppet usa linguagem __Declarativa__, ou seja, declaramos nosso  objetivo sem nso importar em como o computador fará para atingi-lo, a idéia de simplicidade da execução de files em puppet esta exatamente em usar um linguagem declarativa.\n",
    " \n",
    "* Configuration Management deve ser \"Idempotent\", ou seja, performar de tal forma que ações executadas repetidas vezes não devem mudar o sistema após a primeira vez, e sem efeitos colaterais.\n",
    "    * Se a automação for idempotent então caso haja alguma falha por falta de atributos necessários, o atributo pode, posteriormente, ser adicionado ao arquivo e o sistema continua de onde ele parou!\n",
    "    \n",
    "* As ações em puppet são _idempotent_, com apenas uma exceção a __exec__. Tal ação modifica o sistema a cada iteração.\n",
    "    * Uma maneira de contornar esse problema caso seja necessario utilizar o _exec_ é utlizando o __onlyif__, que garante que tal ação seja executada apenas se um requisito for cumprido ou for verdadeiro"
   ]
  },
  {
   "cell_type": "code",
   "execution_count": null,
   "metadata": {},
   "outputs": [],
   "source": [
    "#Exemplo do onlyif\n",
    "exec {'move example file':\n",
    "    command => 'mv /home/user/example.txt /home/user/Desktop',\n",
    "    #Garante que o exec será executado apenas se o arquivo existir\n",
    "    onlyif => 'test -e /home/user/example.txt',\n",
    "}"
   ]
  },
  {
   "cell_type": "markdown",
   "metadata": {},
   "source": [
    "Outros principios importes são:\n",
    "\n",
    "* Testes e Reparos: Garante que as tarefas serão executadas apenas se realmente necessárias para atingir o objetivo. Puppet primeira testa para ver se o resource deve ser gerenciado, ou seja, se precisa ser modificado\n",
    "\n",
    "\n",
    "* Stateless: Não há _estado_ sendo mantido entre as execuções do _agent_. Cada puppet execudado é independente do anterior ou próximo. A cada vez que o puppet agent é executado ele coleta os _facts_ atuais, o puppet master gera as _rules_ baseado apenas nestes facts e então o agent as aplica se necessário."
   ]
  },
  {
   "cell_type": "markdown",
   "metadata": {},
   "source": []
  },
  {
   "cell_type": "markdown",
   "metadata": {},
   "source": []
  },
  {
   "cell_type": "code",
   "execution_count": null,
   "metadata": {},
   "outputs": [],
   "source": []
  }
 ],
 "metadata": {
  "kernelspec": {
   "display_name": "Python 3",
   "language": "python",
   "name": "python3"
  },
  "language_info": {
   "codemirror_mode": {
    "name": "ipython",
    "version": 3
   },
   "file_extension": ".py",
   "mimetype": "text/x-python",
   "name": "python",
   "nbconvert_exporter": "python",
   "pygments_lexer": "ipython3",
   "version": "3.7.4"
  },
  "latex_envs": {
   "LaTeX_envs_menu_present": true,
   "autoclose": true,
   "autocomplete": true,
   "bibliofile": "biblio.bib",
   "cite_by": "apalike",
   "current_citInitial": 1,
   "eqLabelWithNumbers": true,
   "eqNumInitial": 1,
   "hotkeys": {
    "equation": "Ctrl-E",
    "itemize": "Ctrl-I"
   },
   "labels_anchors": false,
   "latex_user_defs": false,
   "report_style_numbering": false,
   "user_envs_cfg": false
  },
  "toc": {
   "base_numbering": 1,
   "nav_menu": {},
   "number_sections": true,
   "sideBar": true,
   "skip_h1_title": false,
   "title_cell": "Table of Contents",
   "title_sidebar": "Contents",
   "toc_cell": false,
   "toc_position": {},
   "toc_section_display": true,
   "toc_window_display": false
  }
 },
 "nbformat": 4,
 "nbformat_minor": 2
}
